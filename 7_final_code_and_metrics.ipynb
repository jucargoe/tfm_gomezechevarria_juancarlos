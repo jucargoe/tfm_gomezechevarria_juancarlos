{
 "cells": [
  {
   "cell_type": "code",
   "execution_count": 1,
   "id": "eb6c1c46-bd53-43a4-be99-7e4a85b0f9ff",
   "metadata": {
    "colab": {
     "base_uri": "https://localhost:8080/"
    },
    "executionInfo": {
     "elapsed": 704,
     "status": "ok",
     "timestamp": 1726767108306,
     "user": {
      "displayName": "Juan Carlos Gómez Echevarría",
      "userId": "10113025764845079545"
     },
     "user_tz": -120
    },
    "id": "eb6c1c46-bd53-43a4-be99-7e4a85b0f9ff",
    "outputId": "f00fb05c-2dd8-4518-f850-c483ffe51d4f"
   },
   "outputs": [
    {
     "name": "stderr",
     "output_type": "stream",
     "text": [
      "C:\\Users\\jc\\AppData\\Roaming\\Python\\Python311\\site-packages\\tqdm\\auto.py:21: TqdmWarning: IProgress not found. Please update jupyter and ipywidgets. See https://ipywidgets.readthedocs.io/en/stable/user_install.html\n",
      "  from .autonotebook import tqdm as notebook_tqdm\n"
     ]
    },
    {
     "name": "stdout",
     "output_type": "stream",
     "text": [
      "The token has not been saved to the git credentials helper. Pass `add_to_git_credential=True` in this function directly or `--add-to-git-credential` if using via `huggingface-cli` if you want to set the git credential as well.\n",
      "Token is valid (permission: write).\n",
      "Your token has been saved to C:\\Users\\jc\\.cache\\huggingface\\token\n",
      "Login successful\n"
     ]
    }
   ],
   "source": [
    "from huggingface_hub import login\n",
    "hf_token = ''\n",
    "login(hf_token)"
   ]
  },
  {
   "cell_type": "code",
   "execution_count": 48,
   "id": "e5c89a1b-1b2f-471e-bf81-71a98e3d1c35",
   "metadata": {
    "executionInfo": {
     "elapsed": 13417,
     "status": "ok",
     "timestamp": 1726767121721,
     "user": {
      "displayName": "Juan Carlos Gómez Echevarría",
      "userId": "10113025764845079545"
     },
     "user_tz": -120
    },
    "id": "e5c89a1b-1b2f-471e-bf81-71a98e3d1c35"
   },
   "outputs": [],
   "source": [
    "import torch\n",
    "import pickle\n",
    "import spacy\n",
    "import time\n",
    "import matplotlib.pyplot as plt\n",
    "from transformers import AutoTokenizer, AutoModelForCausalLM, pipeline\n",
    "from sklearn.metrics.pairwise import cosine_similarity\n",
    "from datasets import load_dataset"
   ]
  },
  {
   "cell_type": "code",
   "execution_count": 3,
   "id": "GweKrl6kqfC-",
   "metadata": {
    "executionInfo": {
     "elapsed": 2,
     "status": "ok",
     "timestamp": 1726767124937,
     "user": {
      "displayName": "Juan Carlos Gómez Echevarría",
      "userId": "10113025764845079545"
     },
     "user_tz": -120
    },
    "id": "GweKrl6kqfC-"
   },
   "outputs": [],
   "source": [
    "BASE_MODEL = \"jucargoe/fine-tuned-llama-3\""
   ]
  },
  {
   "cell_type": "code",
   "execution_count": 4,
   "id": "4t38WrcYId43",
   "metadata": {
    "colab": {
     "base_uri": "https://localhost:8080/",
     "height": 49,
     "referenced_widgets": [
      "09da5199390a4079915baa233aa79f4d",
      "0dae19d1b7834166ac5c4071f048b4cb",
      "7b75194bb37c4be9bae59fa595ede223",
      "84dccd9123b64e89b06b57b926457bc1",
      "007faa50cbc94eb2b838749d432d1940",
      "9e63f4a6e13c47b5aebb4b4fa301e9ef",
      "68a8fe7a564040cd9a804630e2684092",
      "c0243034f60e48458ad7f65f09fc82ae",
      "5975278a9f9f42f8bc048f019ee58ebd",
      "22f3ebdbf39547a898d1b71002885141",
      "e3543eedc47d4263aad24aae557ca84a"
     ]
    },
    "executionInfo": {
     "elapsed": 89691,
     "status": "ok",
     "timestamp": 1726767214626,
     "user": {
      "displayName": "Juan Carlos Gómez Echevarría",
      "userId": "10113025764845079545"
     },
     "user_tz": -120
    },
    "id": "4t38WrcYId43",
    "outputId": "c4e3615b-79c9-477f-b4e6-af0e25911f41"
   },
   "outputs": [
    {
     "name": "stderr",
     "output_type": "stream",
     "text": [
      "Unused kwargs: ['_load_in_4bit', '_load_in_8bit', 'quant_method']. These kwargs are not used in <class 'transformers.utils.quantization_config.BitsAndBytesConfig'>.\n",
      "Loading checkpoint shards: 100%|██████████| 2/2 [00:02<00:00,  1.48s/it]\n"
     ]
    }
   ],
   "source": [
    "model = AutoModelForCausalLM.from_pretrained(\n",
    "    BASE_MODEL,\n",
    "    torch_dtype=torch.float16,\n",
    "    device_map=\"auto\",\n",
    ")\n",
    "tokenizer = AutoTokenizer.from_pretrained(BASE_MODEL)\n",
    "nlp = spacy.load('en_core_web_md')"
   ]
  },
  {
   "cell_type": "code",
   "execution_count": 5,
   "id": "dfe0469c-6808-4d7e-a37b-5daed0daf926",
   "metadata": {},
   "outputs": [],
   "source": [
    "pipe = pipeline(\n",
    "    \"text-generation\",\n",
    "    model=model,\n",
    "    tokenizer=tokenizer,\n",
    "    torch_dtype=torch.float16,\n",
    "    device_map=\"auto\"\n",
    ")"
   ]
  },
  {
   "cell_type": "code",
   "execution_count": 6,
   "id": "3b9a9523-c57c-4a7a-82a9-1315bd964b34",
   "metadata": {},
   "outputs": [],
   "source": [
    "def calculate_context_of_sentence_in_corpus(corpus_vec, sentence):\n",
    "    query = nlp(sentence)\n",
    "    q_vec = query.vector\n",
    "    return cosine_similarity([corpus_vec], [q_vec])\n",
    "\n",
    "def transform_sentence(sentence):\n",
    "    sentence_transformed = []\n",
    "    nlp_sentence = nlp(sentence)\n",
    "    \n",
    "    for word in nlp_sentence:\n",
    "        if not word.is_stop and not word.is_punct and not word.like_num:\n",
    "            sentence_transformed.append(word.text)\n",
    "\n",
    "    return ' '.join(sentence_transformed)\n",
    "    \n",
    "def inference(user_input):\n",
    "    with open('sentences_vector_processed.pickle', 'rb') as file:\n",
    "        corpus_vec = pickle.load(file)\n",
    "    \n",
    "    context = calculate_context_of_sentence_in_corpus(corpus_vec, transform_sentence(user_input))\n",
    "    if context > 0.55:\n",
    "        prompt = f\"\"\"\n",
    "You are a powerful text-to-Python model.\n",
    "Your job is to answer questions about a Python.\n",
    "You are given a question regarding Python code.\n",
    "You must output the Python code that answers the question tabulated correctly.\n",
    "Only one response was allowed.\n",
    "### Input:\n",
    "{user_input}\n",
    "\n",
    "### Response:\n",
    "        \"\"\"\n",
    "        output = pipe(\n",
    "            prompt,\n",
    "            max_new_tokens=100,\n",
    "            do_sample=True,\n",
    "            temperature=0.7,\n",
    "            top_k=50,\n",
    "            top_p=0.95\n",
    "        )\n",
    "        output = output[0]['generated_text'].split('### Response:')\n",
    "        if len(output) > 1:\n",
    "            output = output[1]\n",
    "            if '###' in output:\n",
    "                output = output.split('###')[0]\n",
    "            \n",
    "            output = output.replace('```python', '')\n",
    "            output = output.replace('```', '')\n",
    "    else:\n",
    "        output = 'ERROR: The sentence you have entered is not related with Python code generation, please write a new sentence.'\n",
    "    \n",
    "    return output"
   ]
  },
  {
   "cell_type": "code",
   "execution_count": 38,
   "id": "8f31fb58-b1bb-4d81-ab79-d076d3937b47",
   "metadata": {},
   "outputs": [
    {
     "name": "stderr",
     "output_type": "stream",
     "text": [
      "Using the latest cached version of the dataset since iamtarun/python_code_instructions_18k_alpaca couldn't be found on the Hugging Face Hub\n",
      "Found the latest cached dataset configuration 'default' at C:\\Users\\jc\\.cache\\huggingface\\datasets\\iamtarun___python_code_instructions_18k_alpaca\\default\\0.0.0\\7cae181e29701a8663a07a3ea43c8e105b663ba1 (last modified on Fri Oct 11 14:48:30 2024).\n"
     ]
    }
   ],
   "source": [
    "dataset = load_dataset(\"iamtarun/python_code_instructions_18k_alpaca\", split=\"train\")\n",
    "# train_dataset = dataset.train_test_split(test_size=0.2)[\"train\"]\n",
    "# eval_dataset = dataset.train_test_split(test_size=0.2)[\"test\"]"
   ]
  },
  {
   "cell_type": "code",
   "execution_count": 8,
   "id": "a49cdd38-232f-42da-858a-d66817159573",
   "metadata": {},
   "outputs": [
    {
     "name": "stdout",
     "output_type": "stream",
     "text": [
      "==================================================================================\n",
      "Create a function to calculate the sum of a sequence of integers.\n",
      "===============EXPECTED===============\n",
      "# Python code\n",
      "def sum_sequence(sequence):\n",
      "  sum = 0\n",
      "  for num in sequence:\n",
      "    sum += num\n",
      "  return sum\n",
      "===============INFERENCE===============\n"
     ]
    },
    {
     "name": "stderr",
     "output_type": "stream",
     "text": [
      "C:\\Users\\jc\\AppData\\Roaming\\Python\\Python311\\site-packages\\transformers\\models\\llama\\modeling_llama.py:660: UserWarning: 1Torch was not compiled with flash attention. (Triggered internally at C:\\actions-runner\\_work\\pytorch\\pytorch\\builder\\windows\\pytorch\\aten\\src\\ATen\\native\\transformers\\cuda\\sdp_utils.cpp:555.)\n",
      "  attn_output = torch.nn.functional.scaled_dot_product_attention(\n"
     ]
    },
    {
     "name": "stdout",
     "output_type": "stream",
     "text": [
      "\n",
      "         def sum(a):\n",
      "            s=0\n",
      "            for i in a:\n",
      "               s=s+i\n",
      "            return s\n",
      "\n",
      "--- 7.69370698928833 Execution time ---\n",
      "==================================================================================\n",
      "Generate a Python code for crawling a website for a specific type of data.\n",
      "===============EXPECTED===============\n",
      "import requests\n",
      "import re\n",
      "\n",
      "def crawl_website_for_phone_numbers(website):\n",
      "    response = requests.get(website)\n",
      "    phone_numbers = re.findall('\\d{3}-\\d{3}-\\d{4}', response.text)\n",
      "    return phone_numbers\n",
      "    \n",
      "if __name__ == '__main__':\n",
      "    print(crawl_website_for_phone_numbers('www.example.com'))\n",
      "===============INFERENCE===============\n",
      "\n",
      "         import requests\n",
      "         from bs4 import BeautifulSoup\n",
      "         r = requests.get(url)\n",
      "         soup = BeautifulSoup(r.text, \"html.parser\")\n",
      "         for tag in soup.find_all('a'):\n",
      "             print(tag.get('href'))\n",
      "\n",
      "\n",
      "--- 14.00899863243103 Execution time ---\n",
      "==================================================================================\n",
      "Create a Python list comprehension to get the squared values of a list [1, 2, 3, 5, 8, 13].\n",
      "===============EXPECTED===============\n",
      "[x*x for x in [1, 2, 3, 5, 8, 13]]\n",
      "===============INFERENCE===============\n",
      "\n",
      "         [1, 4, 9, 25, 64, 169]\n",
      "\n",
      "\n",
      "--- 14.28000020980835 Execution time ---\n",
      "==================================================================================\n",
      "Generate a python script to perform this action.\n",
      "===============EXPECTED===============\n",
      "def remove_duplicates(string): \n",
      "    result = \"\" \n",
      "    prev = '' \n",
      "\n",
      "    for char in string:\n",
      "        if char != prev: \n",
      "            result += char\n",
      "            prev = char\n",
      "    return result\n",
      "\n",
      "result = remove_duplicates(\"AAABBCCCD\")\n",
      "print(result)\n",
      "===============INFERENCE===============\n",
      "\n",
      "         # 1. Check if a string contains a substring\n",
      "         # Check if a string contains a substring\n",
      "         # Method 1: Use the 'in' keyword\n",
      "         # Method 2: Use the 'find' method\n",
      "         # Method 3: Use a loop to search for the substring\n",
      "\n",
      "         # 2. Check if a string starts with a substring\n",
      "         # Check if a string starts with a substring\n",
      "         # Method 1: Use the'startswith' method\n",
      "--- 14.074010610580444 Execution time ---\n",
      "==================================================================================\n",
      "Write a python script to generates random numbers between 0 and 9 that are divisible by 3.\n",
      "===============EXPECTED===============\n",
      "def generate_random_divisible_number():\n",
      "    import random\n",
      "    while True:\n",
      "        # Generate a random number\n",
      "        process = random.randint(0, 9)\n",
      "        # Check if the number is divisible by 3\n",
      "        if process % 3 == 0:\n",
      "            # If it is divisible, return it\n",
      "            return process\n",
      "===============INFERENCE===============\n",
      "\n",
      "         import random\n",
      "         random_number = random.randint(0,9)\n",
      "         if random_number % 3 == 0:\n",
      "             print(random_number)\n",
      "         else:\n",
      "             print(\"The number is not divisible by 3\")\n",
      "\n",
      "--- 9.033001899719238 Execution time ---\n",
      "==================================================================================\n",
      "Write a Python code to get the third largest element in a given row.\n",
      "===============EXPECTED===============\n",
      "def third_largest(lst):\n",
      "    if len(lst) < 3:\n",
      "        return\n",
      "    distinct = []\n",
      "    for i in lst:\n",
      "        if i not in distinct:\n",
      "            distinct.append(i)\n",
      "    distinct.sort(reverse=True)\n",
      "    return distinct[2]\n",
      "===============INFERENCE===============\n",
      "\n",
      "        \n",
      "\n",
      "\n",
      "\n",
      "a = [1,2,3,4,5,6,7,8,9,10]\n",
      "print(sorted(a)[len(a)//2])\n",
      "\n",
      "\n",
      "--- 8.389000415802002 Execution time ---\n",
      "==================================================================================\n",
      "Generate a REST API with Python and Flask that allows users to create, read, update, and delete records from a database.\n",
      "===============EXPECTED===============\n",
      "from flask import Flask, request\n",
      "from flask_sqlalchemy import SQLAlchemy\n",
      "\n",
      "app = Flask(name)\n",
      "app.config['SQLALCHEMY_DATABASE_URI'] = 'sqlite:////tmp/test.db'\n",
      "db = SQLAlchemy(app)\n",
      "\n",
      "class Record(db.Model):\n",
      " id = db.Column(db.Integer, primary_key=True)\n",
      " name = db.Column(db.String(120), unique=True)\n",
      "\n",
      "db.create_all()\n",
      "\n",
      "@app.route('/records', methods=['GET'])\n",
      "def get_records():\n",
      " records = Record.query.all()\n",
      " return {'records':[record.name for record in records]}\n",
      "\n",
      "@app.route('/records', methods=['POST'])\n",
      "def create_record():\n",
      " record = Record(name=request.json['name'])\n",
      " db.session.add(record)\n",
      " db.session.commit()\n",
      " return {'id': record.id}\n",
      "\n",
      "@app.route('/records/int:id', methods=['PUT'])\n",
      "def update_record(id):\n",
      " record = Record.query.get(id)\n",
      " record.name = request.json['name']\n",
      " db.session.commit()\n",
      " return {'message': 'Record updated'}\n",
      "\n",
      "@app.route('/records/int:id', methods=['DELETE'])\n",
      "def delete_record(id):\n",
      " Record.query.filter_by(id=id).delete()\n",
      " db.session.commit()\n",
      " return {'message': 'Record deleted'}\n",
      "\n",
      "if name == 'main':\n",
      " app.run(debug=True)\n",
      "===============INFERENCE===============\n",
      "\n",
      "         from flask import Flask, jsonify\n",
      "         from flask_sqlalchemy import SQLAlchemy\n",
      "         from flask_marshmallow import Marshmallow\n",
      "         import os\n",
      "\n",
      "         app = Flask(__name__)\n",
      "         basedir = os.path.abspath(os.path.dirname(__file__))\n",
      "         app.config['SQLALCHEMY_DATABASE_URI'] ='sqlite:///' + os.path.join(basedir, 'app.db')\n",
      "         db = SQLAlchemy(app)\n",
      "         ma = Marshmallow(app)\n",
      "\n",
      "         class Record(db.Model):\n",
      "             id = db.Column(db\n",
      "--- 14.147000312805176 Execution time ---\n",
      "==================================================================================\n",
      "Create a Python function that takes in a string and a list of words and returns true if the string contains all the words in the list.\n",
      "===============EXPECTED===============\n",
      "def contains_words(input_string, words):\n",
      " for word in words:\n",
      " if word not in input_string:\n",
      " return False\n",
      " return True\n",
      "\n",
      "print(contains_words('This is a test', ['test', 'this', 'is'])) # True\n",
      "===============INFERENCE===============\n",
      "\n",
      "         def contains_all_words(str, lst):\n",
      "            return all(word in str.split() for word in lst)\n",
      "\n",
      "--- 12.197022438049316 Execution time ---\n",
      "==================================================================================\n",
      "What should this Python program do?\n",
      "===============EXPECTED===============\n",
      "def is_palindrome(s):\n",
      "    '''This function returns True if the string s is a palindrome and False if it isn't.''' \n",
      "    return s == s[::-1]  # Checks if s is the same as its reverse.\n",
      "===============INFERENCE===============\n",
      "\n",
      "         print(\"Hello World\")\n",
      "\n",
      "--- 14.26701283454895 Execution time ---\n",
      "==================================================================================\n",
      "Create a Python program to sort and print out the elements of an array of integers.\n",
      "===============EXPECTED===============\n",
      "arr = [17, 41, 5, 22, 54, 6, 29, 3, 13]\n",
      "\n",
      "arr.sort()\n",
      "\n",
      "print(arr)\n",
      "\n",
      "# Output: [3, 5, 6, 13, 17, 22, 29, 41, 54]\n",
      "===============INFERENCE===============\n",
      "\n",
      "         def sort_and_print(x):\n",
      "             return x.sort()\n",
      "         print sort_and_print([1,2,3,4,5])\n",
      "\n",
      "--- 7.359999895095825 Execution time ---\n"
     ]
    }
   ],
   "source": [
    "flag = 10\n",
    "counter = 0\n",
    "metrics = {}\n",
    "# for el in iter(dataset):\n",
    "for el in iter(dataset):\n",
    "    instruction = el['instruction']\n",
    "    print('==================================================================================')\n",
    "    print(instruction)\n",
    "    print('===============EXPECTED===============')\n",
    "    print(el['output'])\n",
    "    print('===============INFERENCE===============')\n",
    "    start_time = time.time()\n",
    "    print(inference(instruction))\n",
    "    metrics[instruction] = time.time() - start_time\n",
    "    print(\"--- %s Execution time ---\" % (time.time() - start_time))\n",
    "    counter += 1\n",
    "    if counter == flag:\n",
    "        break"
   ]
  },
  {
   "cell_type": "code",
   "execution_count": 29,
   "id": "e9b7b263-e58a-4b66-903c-826bee8ea693",
   "metadata": {},
   "outputs": [],
   "source": [
    "x = list(metrics.keys())\n",
    "x[:] = (elem[:30] for elem in x)\n",
    "y = metrics.values()"
   ]
  },
  {
   "cell_type": "code",
   "execution_count": 52,
   "id": "1e88bffe-9af7-4d7e-9f47-06b46c8d5671",
   "metadata": {},
   "outputs": [
    {
     "data": {
      "image/png": "[encoded data removed]",
      "text/plain": [
       "<Figure size 640x480 with 1 Axes>"
      ]
     },
     "metadata": {},
     "output_type": "display_data"
    }
   ],
   "source": [
    "fig, ax = plt.subplots()\n",
    "ax.bar(x, y, width=1, edgecolor=\"white\", linewidth=0.7)\n",
    "plt.xticks(rotation=-90)\n",
    "plt.title(\"Tiempo de generación (segundos) según entrada\")\n",
    "plt.show()"
   ]
  },
  {
   "cell_type": "code",
   "execution_count": 50,
   "id": "84fb2f23-a8ad-4fc5-b6ce-8a0291e0f016",
   "metadata": {},
   "outputs": [
    {
     "name": "stdout",
     "output_type": "stream",
     "text": [
      "Tiempo medio de generación: 11.544975423812867 segundos\n"
     ]
    }
   ],
   "source": [
    "print(f\"Tiempo medio de generación: {np.mean(list(y))} segundos\")"
   ]
  },
  {
   "cell_type": "code",
   "execution_count": null,
   "id": "3f451483-a521-47e1-b8ec-64af47c0ab49",
   "metadata": {},
   "outputs": [],
   "source": []
  },
  {
   "cell_type": "code",
   "execution_count": 53,
   "id": "7ecccc4d-73ea-4bc5-b138-1cb2f5dcdb39",
   "metadata": {},
   "outputs": [],
   "source": [
    "invalid_inputs = [\n",
    "    \"The stars looked brighter than ever in the clear night sky.\",\n",
    "    \"I never thought I’d find inspiration in the simplest things.\",\n",
    "    \"Her laughter echoed through the empty halls, filling the space with warmth.\",\n",
    "    \"Time flies when you're doing something you love.\",\n",
    "    \"The smell of fresh coffee in the morning is the best part of the day.\",\n",
    "    \"Sometimes the quiet moments are the most powerful.\",\n",
    "    \"He wandered through the forest, lost in thought.\",\n",
    "    \"Opportunities often come disguised as challenges.\",\n",
    "    \"The waves crashed against the shore, creating a rhythm of their own.\",\n",
    "    \"Life is like a book, and each day is a new page waiting to be written.\",\n",
    "    \"The sun set behind the mountains, painting the sky in shades of orange.\",\n",
    "    \"She held the key to his heart, though she never knew it.\",\n",
    "    \"In the silence of the night, only the crickets could be heard.\",\n",
    "    \"He smiled as he remembered the old days, full of adventure and laughter.\",\n",
    "    \"The rain tapped gently on the window, creating a soothing melody.\",\n",
    "    \"Every step she took felt like a new beginning.\",\n",
    "    \"The wind whispered secrets only the trees could understand.\",\n",
    "    \"He always believed that there was magic in the ordinary.\",\n",
    "    \"The city was alive with lights, yet she felt completely alone.\",\n",
    "    \"They say patience is a virtue, but sometimes it’s a challenge.\",\n",
    "    \"The road ahead was long, but she felt ready for the journey.\",\n",
    "    \"His dreams were bigger than the town he was born in.\",\n",
    "    \"She danced like no one was watching, lost in the music.\",\n",
    "    \"The library smelled of old books and forgotten stories.\",\n",
    "    \"Each morning brought new hope and endless possibilities.\",\n",
    "    \"His eyes sparkled with mischief, always ready for the next adventure.\",\n",
    "    \"The garden was in full bloom, bursting with color and life.\",\n",
    "    \"He could hear the ocean calling, inviting him to explore its depths.\",\n",
    "    \"The clock ticked away, but time seemed to stand still in that moment.\",\n",
    "    \"She knew that sometimes, the smallest gestures meant the most.\",\n",
    "    \"The world outside was cold, but the fireplace kept them warm and cozy.\",\n",
    "    \"A single candle flickered in the dark, casting shadows on the walls.\",\n",
    "    \"He chased his dreams like they were stars, always just out of reach.\",\n",
    "    \"The sound of laughter filled the room, making everything feel lighter.\",\n",
    "    \"She always saw beauty in the most unexpected places.\",\n",
    "    \"They stood in silence, watching the sunrise together.\",\n",
    "    \"His heart raced as he opened the letter, unsure of what it would say.\",\n",
    "    \"The mountain loomed ahead, but he was determined to reach the top.\",\n",
    "    \"She believed that everything happens for a reason, even if it's hard to see at first.\",\n",
    "    \"The wind howled through the trees, making the forest feel alive.\",\n",
    "    \"He never let fear stop him from chasing his dreams.\",\n",
    "    \"The stars twinkled above, a reminder of how vast the universe is.\",\n",
    "    \"She had a way of making even the ordinary feel extraordinary.\",\n",
    "    \"The old house creaked and groaned, full of stories untold.\",\n",
    "    \"He watched the rain fall, feeling peaceful and content.\",\n",
    "    \"The book was old and worn, but its story was timeless.\",\n",
    "    \"The river flowed quietly, reflecting the calmness of the day.\",\n",
    "    \"She found solace in the simple things, like a cup of tea and a good book.\",\n",
    "    \"The sky was a canvas, painted with clouds and sunlight.\",\n",
    "    \"He knew that sometimes, the best adventures were the ones you didn’t plan.\",\n",
    "    \"The waves lapped at the shore, a never-ending dance of water and sand.\",\n",
    "    \"She felt the weight of the world lift as she took a deep breath.\",\n",
    "    \"The forest was dense and dark, but he wasn’t afraid.\",\n",
    "    \"She cherished the little moments, like the sound of birds in the morning.\",\n",
    "    \"The road less traveled often leads to the most beautiful destinations.\",\n",
    "    \"He looked out the window, lost in his thoughts.\",\n",
    "    \"The old clock chimed, signaling the end of the day.\",\n",
    "    \"She felt free, as if nothing in the world could hold her back.\",\n",
    "    \"The journey of a thousand miles begins with a single step.\",\n",
    "    \"He knew that home wasn’t a place, but a feeling.\"\n",
    "]"
   ]
  },
  {
   "cell_type": "code",
   "execution_count": 54,
   "id": "d65e900d-c8ae-424d-bef0-00987a00e584",
   "metadata": {},
   "outputs": [
    {
     "name": "stdout",
     "output_type": "stream",
     "text": [
      "Total de entradas: 60\n",
      "Número de entradas inválidas no detectadas: 3\n",
      "Porcentaje de error: 5.0\n"
     ]
    }
   ],
   "source": [
    "counter = 0\n",
    "for invalid_input in invalid_inputs:\n",
    "    result = inference(invalid_input)\n",
    "    if \"ERROR\" not in result:\n",
    "        counter += 1\n",
    "\n",
    "print(f\"Total de entradas: {len(invalid_inputs)}\")\n",
    "print(f\"Número de entradas inválidas no detectadas: {counter}\")\n",
    "print(f\"Porcentaje de error: {(counter*100)/len(invalid_inputs)}\")"
   ]
  },
  {
   "cell_type": "code",
   "execution_count": 55,
   "id": "e089e4ff-dc9d-4d5a-a2a6-3b89817a0b52",
   "metadata": {},
   "outputs": [
    {
     "data": {
      "image/png": "[encoded data removed]",
      "text/plain": [
       "<Figure size 640x480 with 1 Axes>"
      ]
     },
     "metadata": {},
     "output_type": "display_data"
    }
   ],
   "source": [
    "fig, ax = plt.subplots()\n",
    "x = [\"Aciertos\", \"Fallos\"]\n",
    "y = [len(invalid_inputs)-counter, counter]\n",
    "ax.bar(x, y, width=1, edgecolor=\"white\", linewidth=0.7)\n",
    "ax.set(ylim=(0, len(invalid_inputs)))\n",
    "plt.title(\"Prueba de detección de contexto\")\n",
    "plt.show()"
   ]
  },
  {
   "cell_type": "code",
   "execution_count": null,
   "id": "db45907e-01ff-4aa9-923c-c010a4c4636e",
   "metadata": {},
   "outputs": [],
   "source": []
  }
 ],
 "metadata": {
  "accelerator": "GPU",
  "colab": {
   "gpuType": "T4",
   "provenance": []
  },
  "kernelspec": {
   "display_name": "Python 3 (ipykernel)",
   "language": "python",
   "name": "python3"
  },
  "language_info": {
   "codemirror_mode": {
    "name": "ipython",
    "version": 3
   },
   "file_extension": ".py",
   "mimetype": "text/x-python",
   "name": "python",
   "nbconvert_exporter": "python",
   "pygments_lexer": "ipython3",
   "version": "3.11.7"
  },
  "widgets": {
   "application/vnd.jupyter.widget-state+json": {
    "007faa50cbc94eb2b838749d432d1940": {
     "model_module": "@jupyter-widgets/base",
     "model_module_version": "1.2.0",
     "model_name": "LayoutModel",
     "state": {
      "_model_module": "@jupyter-widgets/base",
      "_model_module_version": "1.2.0",
      "_model_name": "LayoutModel",
      "_view_count": null,
      "_view_module": "@jupyter-widgets/base",
      "_view_module_version": "1.2.0",
      "_view_name": "LayoutView",
      "align_content": null,
      "align_items": null,
      "align_self": null,
      "border": null,
      "bottom": null,
      "display": null,
      "flex": null,
      "flex_flow": null,
      "grid_area": null,
      "grid_auto_columns": null,
      "grid_auto_flow": null,
      "grid_auto_rows": null,
      "grid_column": null,
      "grid_gap": null,
      "grid_row": null,
      "grid_template_areas": null,
      "grid_template_columns": null,
      "grid_template_rows": null,
      "height": null,
      "justify_content": null,
      "justify_items": null,
      "left": null,
      "margin": null,
      "max_height": null,
      "max_width": null,
      "min_height": null,
      "min_width": null,
      "object_fit": null,
      "object_position": null,
      "order": null,
      "overflow": null,
      "overflow_x": null,
      "overflow_y": null,
      "padding": null,
      "right": null,
      "top": null,
      "visibility": null,
      "width": null
     }
    },
    "09da5199390a4079915baa233aa79f4d": {
     "model_module": "@jupyter-widgets/controls",
     "model_module_version": "1.5.0",
     "model_name": "HBoxModel",
     "state": {
      "_dom_classes": [],
      "_model_module": "@jupyter-widgets/controls",
      "_model_module_version": "1.5.0",
      "_model_name": "HBoxModel",
      "_view_count": null,
      "_view_module": "@jupyter-widgets/controls",
      "_view_module_version": "1.5.0",
      "_view_name": "HBoxView",
      "box_style": "",
      "children": [
       "IPY_MODEL_0dae19d1b7834166ac5c4071f048b4cb",
       "IPY_MODEL_7b75194bb37c4be9bae59fa595ede223",
       "IPY_MODEL_84dccd9123b64e89b06b57b926457bc1"
      ],
      "layout": "IPY_MODEL_007faa50cbc94eb2b838749d432d1940"
     }
    },
    "0dae19d1b7834166ac5c4071f048b4cb": {
     "model_module": "@jupyter-widgets/controls",
     "model_module_version": "1.5.0",
     "model_name": "HTMLModel",
     "state": {
      "_dom_classes": [],
      "_model_module": "@jupyter-widgets/controls",
      "_model_module_version": "1.5.0",
      "_model_name": "HTMLModel",
      "_view_count": null,
      "_view_module": "@jupyter-widgets/controls",
      "_view_module_version": "1.5.0",
      "_view_name": "HTMLView",
      "description": "",
      "description_tooltip": null,
      "layout": "IPY_MODEL_9e63f4a6e13c47b5aebb4b4fa301e9ef",
      "placeholder": "​",
      "style": "IPY_MODEL_68a8fe7a564040cd9a804630e2684092",
      "value": "Loading checkpoint shards: 100%"
     }
    },
    "22f3ebdbf39547a898d1b71002885141": {
     "model_module": "@jupyter-widgets/base",
     "model_module_version": "1.2.0",
     "model_name": "LayoutModel",
     "state": {
      "_model_module": "@jupyter-widgets/base",
      "_model_module_version": "1.2.0",
      "_model_name": "LayoutModel",
      "_view_count": null,
      "_view_module": "@jupyter-widgets/base",
      "_view_module_version": "1.2.0",
      "_view_name": "LayoutView",
      "align_content": null,
      "align_items": null,
      "align_self": null,
      "border": null,
      "bottom": null,
      "display": null,
      "flex": null,
      "flex_flow": null,
      "grid_area": null,
      "grid_auto_columns": null,
      "grid_auto_flow": null,
      "grid_auto_rows": null,
      "grid_column": null,
      "grid_gap": null,
      "grid_row": null,
      "grid_template_areas": null,
      "grid_template_columns": null,
      "grid_template_rows": null,
      "height": null,
      "justify_content": null,
      "justify_items": null,
      "left": null,
      "margin": null,
      "max_height": null,
      "max_width": null,
      "min_height": null,
      "min_width": null,
      "object_fit": null,
      "object_position": null,
      "order": null,
      "overflow": null,
      "overflow_x": null,
      "overflow_y": null,
      "padding": null,
      "right": null,
      "top": null,
      "visibility": null,
      "width": null
     }
    },
    "5975278a9f9f42f8bc048f019ee58ebd": {
     "model_module": "@jupyter-widgets/controls",
     "model_module_version": "1.5.0",
     "model_name": "ProgressStyleModel",
     "state": {
      "_model_module": "@jupyter-widgets/controls",
      "_model_module_version": "1.5.0",
      "_model_name": "ProgressStyleModel",
      "_view_count": null,
      "_view_module": "@jupyter-widgets/base",
      "_view_module_version": "1.2.0",
      "_view_name": "StyleView",
      "bar_color": null,
      "description_width": ""
     }
    },
    "68a8fe7a564040cd9a804630e2684092": {
     "model_module": "@jupyter-widgets/controls",
     "model_module_version": "1.5.0",
     "model_name": "DescriptionStyleModel",
     "state": {
      "_model_module": "@jupyter-widgets/controls",
      "_model_module_version": "1.5.0",
      "_model_name": "DescriptionStyleModel",
      "_view_count": null,
      "_view_module": "@jupyter-widgets/base",
      "_view_module_version": "1.2.0",
      "_view_name": "StyleView",
      "description_width": ""
     }
    },
    "7b75194bb37c4be9bae59fa595ede223": {
     "model_module": "@jupyter-widgets/controls",
     "model_module_version": "1.5.0",
     "model_name": "FloatProgressModel",
     "state": {
      "_dom_classes": [],
      "_model_module": "@jupyter-widgets/controls",
      "_model_module_version": "1.5.0",
      "_model_name": "FloatProgressModel",
      "_view_count": null,
      "_view_module": "@jupyter-widgets/controls",
      "_view_module_version": "1.5.0",
      "_view_name": "ProgressView",
      "bar_style": "success",
      "description": "",
      "description_tooltip": null,
      "layout": "IPY_MODEL_c0243034f60e48458ad7f65f09fc82ae",
      "max": 4,
      "min": 0,
      "orientation": "horizontal",
      "style": "IPY_MODEL_5975278a9f9f42f8bc048f019ee58ebd",
      "value": 4
     }
    },
    "84dccd9123b64e89b06b57b926457bc1": {
     "model_module": "@jupyter-widgets/controls",
     "model_module_version": "1.5.0",
     "model_name": "HTMLModel",
     "state": {
      "_dom_classes": [],
      "_model_module": "@jupyter-widgets/controls",
      "_model_module_version": "1.5.0",
      "_model_name": "HTMLModel",
      "_view_count": null,
      "_view_module": "@jupyter-widgets/controls",
      "_view_module_version": "1.5.0",
      "_view_name": "HTMLView",
      "description": "",
      "description_tooltip": null,
      "layout": "IPY_MODEL_22f3ebdbf39547a898d1b71002885141",
      "placeholder": "​",
      "style": "IPY_MODEL_e3543eedc47d4263aad24aae557ca84a",
      "value": " 4/4 [01:26&lt;00:00, 18.80s/it]"
     }
    },
    "9e63f4a6e13c47b5aebb4b4fa301e9ef": {
     "model_module": "@jupyter-widgets/base",
     "model_module_version": "1.2.0",
     "model_name": "LayoutModel",
     "state": {
      "_model_module": "@jupyter-widgets/base",
      "_model_module_version": "1.2.0",
      "_model_name": "LayoutModel",
      "_view_count": null,
      "_view_module": "@jupyter-widgets/base",
      "_view_module_version": "1.2.0",
      "_view_name": "LayoutView",
      "align_content": null,
      "align_items": null,
      "align_self": null,
      "border": null,
      "bottom": null,
      "display": null,
      "flex": null,
      "flex_flow": null,
      "grid_area": null,
      "grid_auto_columns": null,
      "grid_auto_flow": null,
      "grid_auto_rows": null,
      "grid_column": null,
      "grid_gap": null,
      "grid_row": null,
      "grid_template_areas": null,
      "grid_template_columns": null,
      "grid_template_rows": null,
      "height": null,
      "justify_content": null,
      "justify_items": null,
      "left": null,
      "margin": null,
      "max_height": null,
      "max_width": null,
      "min_height": null,
      "min_width": null,
      "object_fit": null,
      "object_position": null,
      "order": null,
      "overflow": null,
      "overflow_x": null,
      "overflow_y": null,
      "padding": null,
      "right": null,
      "top": null,
      "visibility": null,
      "width": null
     }
    },
    "c0243034f60e48458ad7f65f09fc82ae": {
     "model_module": "@jupyter-widgets/base",
     "model_module_version": "1.2.0",
     "model_name": "LayoutModel",
     "state": {
      "_model_module": "@jupyter-widgets/base",
      "_model_module_version": "1.2.0",
      "_model_name": "LayoutModel",
      "_view_count": null,
      "_view_module": "@jupyter-widgets/base",
      "_view_module_version": "1.2.0",
      "_view_name": "LayoutView",
      "align_content": null,
      "align_items": null,
      "align_self": null,
      "border": null,
      "bottom": null,
      "display": null,
      "flex": null,
      "flex_flow": null,
      "grid_area": null,
      "grid_auto_columns": null,
      "grid_auto_flow": null,
      "grid_auto_rows": null,
      "grid_column": null,
      "grid_gap": null,
      "grid_row": null,
      "grid_template_areas": null,
      "grid_template_columns": null,
      "grid_template_rows": null,
      "height": null,
      "justify_content": null,
      "justify_items": null,
      "left": null,
      "margin": null,
      "max_height": null,
      "max_width": null,
      "min_height": null,
      "min_width": null,
      "object_fit": null,
      "object_position": null,
      "order": null,
      "overflow": null,
      "overflow_x": null,
      "overflow_y": null,
      "padding": null,
      "right": null,
      "top": null,
      "visibility": null,
      "width": null
     }
    },
    "e3543eedc47d4263aad24aae557ca84a": {
     "model_module": "@jupyter-widgets/controls",
     "model_module_version": "1.5.0",
     "model_name": "DescriptionStyleModel",
     "state": {
      "_model_module": "@jupyter-widgets/controls",
      "_model_module_version": "1.5.0",
      "_model_name": "DescriptionStyleModel",
      "_view_count": null,
      "_view_module": "@jupyter-widgets/base",
      "_view_module_version": "1.2.0",
      "_view_name": "StyleView",
      "description_width": ""
     }
    }
   }
  }
 },
 "nbformat": 4,
 "nbformat_minor": 5
}
