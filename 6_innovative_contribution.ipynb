{
 "cells": [
  {
   "cell_type": "code",
   "execution_count": 1,
   "id": "f71b8a32-d904-4960-afa8-97ee79bb7990",
   "metadata": {},
   "outputs": [],
   "source": [
    "# !pip install spacy\n",
    "# !pip install scikit-learn\n",
    "# !python -m spacy download en_core_web_md"
   ]
  },
  {
   "cell_type": "code",
   "execution_count": 2,
   "id": "617e19a3-cd3c-466d-82e0-a4cc1f811e7d",
   "metadata": {
    "executionInfo": {
     "elapsed": 3462,
     "status": "ok",
     "timestamp": 1727439455072,
     "user": {
      "displayName": "Juan Carlos Gómez Echevarría",
      "userId": "10113025764845079545"
     },
     "user_tz": -120
    },
    "id": "617e19a3-cd3c-466d-82e0-a4cc1f811e7d"
   },
   "outputs": [],
   "source": [
    "import pandas as pd\n",
    "import spacy\n",
    "import numpy as np\n",
    "import pickle\n",
    "from sklearn.metrics.pairwise import cosine_similarity\n",
    "nlp = spacy.load(\"en_core_web_md\")"
   ]
  },
  {
   "cell_type": "code",
   "execution_count": 3,
   "id": "tsAUvO6JaiPT",
   "metadata": {
    "id": "tsAUvO6JaiPT"
   },
   "outputs": [],
   "source": [
    "# SOLO PARA USO EN GOOGLE COLABORATORY\n",
    "# para conectar el notebook con la cuenta de gdrive\n",
    "# from google.colab import drive\n",
    "# drive.mount('/content/drive/')"
   ]
  },
  {
   "cell_type": "code",
   "execution_count": 4,
   "id": "51b3c28b-154b-4f65-861e-d87ec699aaf2",
   "metadata": {},
   "outputs": [],
   "source": [
    "# BASE_FOLDER = '/content/drive/My Drive/TFM'\n",
    "BASE_FOLDER = './'"
   ]
  },
  {
   "cell_type": "code",
   "execution_count": 5,
   "id": "jsM-zQ3NuwnU",
   "metadata": {
    "executionInfo": {
     "elapsed": 259,
     "status": "ok",
     "timestamp": 1727438789024,
     "user": {
      "displayName": "Juan Carlos Gómez Echevarría",
      "userId": "10113025764845079545"
     },
     "user_tz": -120
    },
    "id": "jsM-zQ3NuwnU"
   },
   "outputs": [],
   "source": [
    "corpus = pd.read_parquet(f'{BASE_FOLDER}/dataset_python_functions.parquet')\n",
    "corpus = corpus['instruction'].to_list()"
   ]
  },
  {
   "cell_type": "code",
   "execution_count": 6,
   "id": "rBKpuL5hqc1U",
   "metadata": {
    "executionInfo": {
     "elapsed": 2,
     "status": "ok",
     "timestamp": 1727438786889,
     "user": {
      "displayName": "Juan Carlos Gómez Echevarría",
      "userId": "10113025764845079545"
     },
     "user_tz": -120
    },
    "id": "rBKpuL5hqc1U"
   },
   "outputs": [],
   "source": [
    "def transform_sentence(sentence):\n",
    "    sentence_transformed = []\n",
    "    nlp_sentence = nlp(sentence)\n",
    "    \n",
    "    for word in nlp_sentence:\n",
    "        if not word.is_stop and not word.is_punct and not word.like_num:\n",
    "            sentence_transformed.append(word.text)\n",
    "\n",
    "    return \" \".join(sentence_transformed)"
   ]
  },
  {
   "cell_type": "code",
   "execution_count": 7,
   "id": "G_lQfRgwuvYX",
   "metadata": {
    "executionInfo": {
     "elapsed": 176981,
     "status": "ok",
     "timestamp": 1727438966004,
     "user": {
      "displayName": "Juan Carlos Gómez Echevarría",
      "userId": "10113025764845079545"
     },
     "user_tz": -120
    },
    "id": "G_lQfRgwuvYX"
   },
   "outputs": [
    {
     "name": "stdout",
     "output_type": "stream",
     "text": [
      "['Create a function to calculate the sum of a sequence of integers.', 'Generate a Python code for crawling a website for a specific type of data.', 'Create a Python list comprehension to get the squared values of a list [1, 2, 3, 5, 8, 13].', 'Generate a python script to perform this action.', 'Write a python script to generates random numbers between 0 and 9 that are divisible by 3.']\n",
      "['Create function calculate sum sequence integers', 'Generate Python code crawling website specific type data', 'Create Python list comprehension squared values list', 'Generate python script perform action', 'Write python script generates random numbers divisible']\n"
     ]
    }
   ],
   "source": [
    "print(corpus[:5])\n",
    "for index, sentence in enumerate(corpus):\n",
    "    corpus[index] = transform_sentence(sentence)\n",
    "\n",
    "print(corpus[:5])"
   ]
  },
  {
   "cell_type": "code",
   "execution_count": 8,
   "id": "_oZUbKfhpTD1",
   "metadata": {
    "executionInfo": {
     "elapsed": 145433,
     "status": "ok",
     "timestamp": 1727439111436,
     "user": {
      "displayName": "Juan Carlos Gómez Echevarría",
      "userId": "10113025764845079545"
     },
     "user_tz": -120
    },
    "id": "_oZUbKfhpTD1"
   },
   "outputs": [
    {
     "name": "stdout",
     "output_type": "stream",
     "text": [
      "[-0.7960618  -0.2573387   1.5524931   0.41363308  2.688529    0.3146781\n",
      "  1.8208108   2.2197366  -2.7233176  -0.54690075  5.3397055   1.9338576\n",
      " -4.2966914   2.4969664   0.37079632  0.68272454  2.397711    1.1503541\n",
      " -1.3532854   0.48721963 -1.1650857   1.1779038  -1.2810013   0.5372504\n",
      " -1.4514434  -0.49112925 -0.9705407  -1.8605627  -1.348806    1.174778\n",
      " -0.35029024  0.9432025  -1.1598158  -0.60816544  1.187353   -1.0960531\n",
      "  0.43153036 -0.28287143  2.1484945   0.92216116  0.8986668  -1.1144468\n",
      " -1.6732911   0.8925951  -2.4947379   0.80841285  2.2919462  -1.288995\n",
      " -0.15612681 -1.7120885   0.36612856  1.9513457  -0.30400637 -2.2375906\n",
      " -2.4474888   2.0463588  -2.0988162   1.886121    1.017816   -1.2687927\n",
      "  2.4162874   1.5328352  -3.0044312   0.5096481   2.026303    3.0498402\n",
      " -2.0525825  -3.8909523  -0.2624292   2.64655    -2.156691    0.40768492\n",
      " -1.0112213  -0.02407207 -0.16623355  1.5462584  -0.29660705 -0.02785358\n",
      " -0.4892479   1.1282624  -2.8511946  -1.108096   -0.14151023  1.3332063\n",
      "  0.76388824 -1.3781847  -0.03210507 -0.4322987   0.52593523 -0.03278026\n",
      " -0.93958694  1.4096472   1.408406   -0.72150064 -0.02740501 -0.2965754\n",
      "  0.14303923 -1.1527325  -0.2990611   0.3484543   1.716828    0.6490094\n",
      "  1.9564482   1.4114592  -0.30024225  3.5412855  -1.493977   -1.4889688\n",
      " -0.13809095 -0.57096887  3.0410578   0.27841765 -1.514748    0.16046554\n",
      " -0.98518133  0.8492602  -3.4819703  -0.16314845 -1.0837066  -1.2895777\n",
      " -2.3760915  -2.2937908  -0.00843246  0.6042188  -0.8077761  -2.0662656\n",
      " -0.94644535 -2.588037    2.0447142  -0.547671   -2.3851128   0.76799023\n",
      "  2.5032024   0.01269157  0.68202174 -0.8635851  -0.8043853  -0.48708647\n",
      "  1.49963    -0.71087205  0.65468585  0.06900393  0.49330658  0.6756191\n",
      "  0.8316491  -0.09745429 -1.3874668   0.62454784  0.44792312  2.4780133\n",
      " -0.24864256  2.1978629   0.1396175  -0.01127754 -1.4718546  -0.24913192\n",
      "  2.9787445   2.2945564   0.24723943 -2.2360644   0.4845887   0.32273427\n",
      "  0.7430088   0.70487523 -1.2871687  -1.1215839  -1.9520494   0.64289963\n",
      "  0.1678464  -0.51856065 -0.41266385 -0.4353596  -1.0936867   0.42741373\n",
      "  1.9024271   0.96988124  0.9590277   0.41513813 -1.9720503  -1.5595303\n",
      "  0.10108177  0.84608626 -0.38317874 -1.6090329  -0.221502   -0.30461973\n",
      " -1.385155   -2.1526816   0.39832562  1.613564    0.525838   -1.2333456\n",
      " -1.007938   -0.10727414  1.4918549   1.8251851  -2.029091   -0.54284793\n",
      "  1.6045583   0.68706304 -2.1987514  -0.7819736  -1.512743   -1.3081669\n",
      "  2.5810251   1.128867   -2.5594993   0.5209134   2.2231035  -0.6042898\n",
      "  0.18329576 -0.20068294  0.1041922   1.6569128   1.0244743   1.3383468\n",
      "  2.0612857  -2.6157892  -0.27157128  1.1866782  -0.1810654   2.0032625\n",
      " -1.5612111  -0.23710029 -0.3343064  -1.0166199   1.5249609   1.0579567\n",
      "  1.4764105  -0.02307209  0.75915956 -2.834326   -0.48638716  0.67339134\n",
      "  1.3977803   1.1153208   0.45311263  0.8306245   1.2629436  -0.35936546\n",
      " -1.9906827  -2.1865873  -1.2119682   1.7326145   1.1320627   1.2720997\n",
      " -2.467634   -0.02027301  0.35939825  0.11419481  0.91871864 -1.943113\n",
      " -2.577454   -1.5938102   0.05758895 -1.0769302   1.9946034  -1.2839752\n",
      " -0.12855807  1.0896649  -0.47056723  3.1682227   0.28501117  0.81784135\n",
      "  1.1218102  -0.9377457   0.18225476  2.349117   -3.0253134  -1.8264273\n",
      " -0.07133878 -1.2981042   0.88219    -1.5830288   0.06590013 -1.504017\n",
      "  0.26853743 -0.10792373 -2.2159913   2.0712268   2.171371   -0.5163191\n",
      "  1.0190736   0.4414955   1.9571849   0.09381276  0.96315736  1.0031751\n",
      " -1.2397848   0.4185373   0.5227824  -0.16877082  1.2960759   0.12419883\n",
      "  0.48166957  1.1407796   0.39731005 -2.3360136  -1.3614607   0.9814368 ]\n"
     ]
    }
   ],
   "source": [
    "corpus_vec = np.mean([nlp(instruction).vector for instruction in corpus], axis=0)\n",
    "print(corpus_vec)"
   ]
  },
  {
   "cell_type": "code",
   "execution_count": 9,
   "id": "10Qs_ThrmHCU",
   "metadata": {
    "executionInfo": {
     "elapsed": 2,
     "status": "ok",
     "timestamp": 1727438786888,
     "user": {
      "displayName": "Juan Carlos Gómez Echevarría",
      "userId": "10113025764845079545"
     },
     "user_tz": -120
    },
    "id": "10Qs_ThrmHCU"
   },
   "outputs": [],
   "source": [
    "def calculate_context_of_sentence_in_corpus(corpus_vec, sentence):\n",
    "    query = nlp(sentence)\n",
    "    q_vec = query.vector\n",
    "    return cosine_similarity([corpus_vec], [q_vec])"
   ]
  },
  {
   "cell_type": "code",
   "execution_count": 10,
   "id": "5gVV62mnnCCM",
   "metadata": {
    "colab": {
     "base_uri": "https://localhost:8080/"
    },
    "executionInfo": {
     "elapsed": 255,
     "status": "ok",
     "timestamp": 1727439255858,
     "user": {
      "displayName": "Juan Carlos Gómez Echevarría",
      "userId": "10113025764845079545"
     },
     "user_tz": -120
    },
    "id": "5gVV62mnnCCM",
    "outputId": "e3c70f74-4d67-4bf9-b762-96c3dabffe17"
   },
   "outputs": [
    {
     "data": {
      "text/plain": [
       "array([[0.7882325]], dtype=float32)"
      ]
     },
     "execution_count": 10,
     "metadata": {},
     "output_type": "execute_result"
    }
   ],
   "source": [
    "sentence = \"Make a function to return fibonnaci sequence\"\n",
    "sentence = transform_sentence(sentence)\n",
    "calculate_context_of_sentence_in_corpus(corpus_vec, sentence)"
   ]
  },
  {
   "cell_type": "code",
   "execution_count": 11,
   "id": "UmovaF3Fnd3U",
   "metadata": {
    "colab": {
     "base_uri": "https://localhost:8080/"
    },
    "executionInfo": {
     "elapsed": 246,
     "status": "ok",
     "timestamp": 1727439209833,
     "user": {
      "displayName": "Juan Carlos Gómez Echevarría",
      "userId": "10113025764845079545"
     },
     "user_tz": -120
    },
    "id": "UmovaF3Fnd3U",
    "outputId": "6f489c5d-77b2-4b25-9f37-e19d46fe0828"
   },
   "outputs": [
    {
     "data": {
      "text/plain": [
       "array([[0.14083377]], dtype=float32)"
      ]
     },
     "execution_count": 11,
     "metadata": {},
     "output_type": "execute_result"
    }
   ],
   "source": [
    "sentence = \"Make a sandwich with cheese, tomatoes and lettuce\"\n",
    "sentence = transform_sentence(sentence)\n",
    "calculate_context_of_sentence_in_corpus(corpus_vec, sentence)"
   ]
  },
  {
   "cell_type": "code",
   "execution_count": 12,
   "id": "BzJHTZMrZoMa",
   "metadata": {
    "executionInfo": {
     "elapsed": 258,
     "status": "ok",
     "timestamp": 1727439548372,
     "user": {
      "displayName": "Juan Carlos Gómez Echevarría",
      "userId": "10113025764845079545"
     },
     "user_tz": -120
    },
    "id": "BzJHTZMrZoMa"
   },
   "outputs": [],
   "source": [
    "with open(f\"{BASE_FOLDER}/sentences_vector_processed.pickle\", \"wb\") as file:\n",
    "    pickle.dump(corpus_vec, file)"
   ]
  },
  {
   "cell_type": "code",
   "execution_count": null,
   "id": "c622aa7b-d1e8-425f-adb9-1db131afdc8c",
   "metadata": {},
   "outputs": [],
   "source": []
  }
 ],
 "metadata": {
  "colab": {
   "provenance": []
  },
  "kernelspec": {
   "display_name": "Python 3 (ipykernel)",
   "language": "python",
   "name": "python3"
  },
  "language_info": {
   "codemirror_mode": {
    "name": "ipython",
    "version": 3
   },
   "file_extension": ".py",
   "mimetype": "text/x-python",
   "name": "python",
   "nbconvert_exporter": "python",
   "pygments_lexer": "ipython3",
   "version": "3.11.7"
  }
 },
 "nbformat": 4,
 "nbformat_minor": 5
}
