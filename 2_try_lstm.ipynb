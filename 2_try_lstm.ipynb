{
 "cells": [
  {
   "cell_type": "code",
   "execution_count": 2,
   "id": "ckckgklp3fb6",
   "metadata": {
    "colab": {
     "base_uri": "https://localhost:8080/"
    },
    "executionInfo": {
     "elapsed": 23196,
     "status": "ok",
     "timestamp": 1727714098984,
     "user": {
      "displayName": "Juan Carlos Gómez Echevarría",
      "userId": "03946981889435059372"
     },
     "user_tz": -120
    },
    "id": "ckckgklp3fb6",
    "outputId": "ae4b4f83-f48d-4dae-8ec7-46bd53bbdd0b"
   },
   "outputs": [
    {
     "name": "stderr",
     "output_type": "stream",
     "text": [
      "C:\\Users\\jc\\.conda\\envs\\tf\\lib\\site-packages\\tqdm\\auto.py:21: TqdmWarning: IProgress not found. Please update jupyter and ipywidgets. See https://ipywidgets.readthedocs.io/en/stable/user_install.html\n",
      "  from .autonotebook import tqdm as notebook_tqdm\n"
     ]
    },
    {
     "name": "stdout",
     "output_type": "stream",
     "text": [
      "The token has not been saved to the git credentials helper. Pass `add_to_git_credential=True` in this function directly or `--add-to-git-credential` if using via `huggingface-cli` if you want to set the git credential as well.\n",
      "Token is valid (permission: write).\n",
      "Your token has been saved to C:\\Users\\jc\\.cache\\huggingface\\token\n",
      "Login successful\n"
     ]
    }
   ],
   "source": [
    "# for colab\n",
    "# !pip install --upgrade datasets\n",
    "# # !pip install --upgrade ipywidgets\n",
    "\n",
    "from huggingface_hub import login\n",
    "hf_token = ''\n",
    "login(hf_token)"
   ]
  },
  {
   "cell_type": "code",
   "execution_count": 3,
   "id": "xsTRlpd5KXh8",
   "metadata": {
    "executionInfo": {
     "elapsed": 8725,
     "status": "ok",
     "timestamp": 1727714107706,
     "user": {
      "displayName": "Juan Carlos Gómez Echevarría",
      "userId": "03946981889435059372"
     },
     "user_tz": -120
    },
    "id": "xsTRlpd5KXh8"
   },
   "outputs": [],
   "source": [
    "import random\n",
    "import tensorflow as tf\n",
    "import numpy as np\n",
    "from datasets import load_dataset\n",
    "from tensorflow.keras import layers, models\n",
    "from tensorflow.keras.layers import LSTM, Dropout, Bidirectional"
   ]
  },
  {
   "cell_type": "code",
   "execution_count": 4,
   "id": "5yWorhWGqOaP",
   "metadata": {
    "colab": {
     "base_uri": "https://localhost:8080/"
    },
    "executionInfo": {
     "elapsed": 20317,
     "status": "ok",
     "timestamp": 1727714128019,
     "user": {
      "displayName": "Juan Carlos Gómez Echevarría",
      "userId": "03946981889435059372"
     },
     "user_tz": -120
    },
    "id": "5yWorhWGqOaP",
    "outputId": "86c8a229-bd69-4c92-b4c5-252bd4605e41"
   },
   "outputs": [],
   "source": [
    "# SOLO PARA USO EN GOOGLE COLABORATORY\n",
    "# para conectar el notebook con la cuenta de gdrive\n",
    "# from google.colab import drive\n",
    "# drive.mount('/content/drive/')\n",
    "# !ls \"/content/drive/My Drive/\"\n",
    "# CHECKPOINTS_FOLDER = '/content/drive/MyDrive/TFM/checkpoints' # Se debe garantizar que la carpeta docencia compartida se almacena en el directorio raíz de Google Drive. En caso contrario modificar este path\n",
    "# MODELS_FOLDER = '/content/drive/MyDrive/TFM/saved_models' # Se debe garantizar que la carpeta docencia compartida se almacena en el directorio raíz de Google Drive. En caso contrario modificar este path\n",
    "\n",
    "# for localhost\n",
    "CHECKPOINTS_FOLDER = './checkpoints'\n",
    "MODELS_FOLDER = './saved_models'"
   ]
  },
  {
   "cell_type": "code",
   "execution_count": 5,
   "id": "111bd840-b07a-4f69-82e4-b42de2b5c34d",
   "metadata": {
    "colab": {
     "base_uri": "https://localhost:8080/"
    },
    "executionInfo": {
     "elapsed": 3,
     "status": "ok",
     "timestamp": 1727714128019,
     "user": {
      "displayName": "Juan Carlos Gómez Echevarría",
      "userId": "03946981889435059372"
     },
     "user_tz": -120
    },
    "id": "111bd840-b07a-4f69-82e4-b42de2b5c34d",
    "outputId": "13354537-a609-4a48-8d2b-c6205189c4ad"
   },
   "outputs": [
    {
     "name": "stdout",
     "output_type": "stream",
     "text": [
      "Found a GPU with the name: PhysicalDevice(name='/physical_device:GPU:0', device_type='GPU')\n"
     ]
    }
   ],
   "source": [
    "gpus = tf.config.list_physical_devices(\"GPU\")\n",
    "if gpus:\n",
    "    for gpu in gpus:\n",
    "        print(\"Found a GPU with the name:\", gpu)\n",
    "else:\n",
    "    print(\"Failed to detect a GPU.\")\n"
   ]
  },
  {
   "cell_type": "code",
   "execution_count": 5,
   "id": "c739895d-0de2-4ec6-a87c-47f38a9a74b8",
   "metadata": {
    "colab": {
     "base_uri": "https://localhost:8080/",
     "height": 81,
     "referenced_widgets": [
      "51da1bb26de349ce9a9f4197aa6f2a45",
      "9922989264ae46938f8e87a9e2ebb42e",
      "e94914dc87c244828fa75bc687cd44a7",
      "806212d3096c48eab1f9236d839dcbb0",
      "064206c013584bacbbdfc8c3dfd62ba7",
      "0fb32500faa541fbb9670c69a40abc5d",
      "d8d88e9a67c04a759263e8cea1056ef4",
      "273b22e5fab1475cb7a09ae4defc5413",
      "004c3405a9854683b3ba5cfbdbe04545",
      "29605eb7aa1b4455835edfd79dc7bb3f",
      "ce201958bd0347f7a6ccd699ffc354d2",
      "4e5023a0a46b4f34a9f95cb3aefdd3c2",
      "5efdf44f39da4dceba3dee45406c7c14",
      "51a453cad8144572b8d27341f757ba94",
      "0cc7124c4838492fac5ba80cfdfe7925",
      "e23914fa4dda44bc98380293e0a52646",
      "7e7c4c333c1d456b87d5745e8c2dc750",
      "c71d59713ba24832833e7fdea625513d",
      "a83f6cc5644e4f26a9f23743cb2dc197",
      "21bb57bf6f4948e6ac7f55910740175a",
      "0668b921d65a4bb29f6089692797b3fd",
      "139f0aac0e144c26ae87986caea5917e"
     ]
    },
    "executionInfo": {
     "elapsed": 9233,
     "status": "ok",
     "timestamp": 1727714137249,
     "user": {
      "displayName": "Juan Carlos Gómez Echevarría",
      "userId": "03946981889435059372"
     },
     "user_tz": -120
    },
    "id": "c739895d-0de2-4ec6-a87c-47f38a9a74b8",
    "outputId": "e8cb942a-8b3a-47c7-d1da-0504515a1ef9"
   },
   "outputs": [
    {
     "data": {
      "application/vnd.jupyter.widget-view+json": {
       "model_id": "51da1bb26de349ce9a9f4197aa6f2a45",
       "version_major": 2,
       "version_minor": 0
      },
      "text/plain": [
       "README.md:   0%|          | 0.00/19.3k [00:00<?, ?B/s]"
      ]
     },
     "metadata": {},
     "output_type": "display_data"
    },
    {
     "data": {
      "application/vnd.jupyter.widget-view+json": {
       "model_id": "4e5023a0a46b4f34a9f95cb3aefdd3c2",
       "version_major": 2,
       "version_minor": 0
      },
      "text/plain": [
       "Resolving data files:   0%|          | 0/144 [00:00<?, ?it/s]"
      ]
     },
     "metadata": {},
     "output_type": "display_data"
    }
   ],
   "source": [
    "# specific language\n",
    "ds = load_dataset(\"bigcode/the-stack-dedup\", data_dir=\"data/python\", streaming=True, split=\"train\", revision=\"main\")"
   ]
  },
  {
   "cell_type": "code",
   "execution_count": 8,
   "id": "NeA8mhTB39lL",
   "metadata": {
    "colab": {
     "base_uri": "https://localhost:8080/"
    },
    "executionInfo": {
     "elapsed": 894,
     "status": "ok",
     "timestamp": 1727714436227,
     "user": {
      "displayName": "Juan Carlos Gómez Echevarría",
      "userId": "03946981889435059372"
     },
     "user_tz": -120
    },
    "id": "NeA8mhTB39lL",
    "outputId": "426d4b7a-1b73-4dbf-aae9-514c6a219ed8"
   },
   "outputs": [
    {
     "name": "stdout",
     "output_type": "stream",
     "text": [
      "Removed lines: 605\n"
     ]
    }
   ],
   "source": [
    "VERSION = 'v4'\n",
    "DATASETS = 80\n",
    "\n",
    "# load datasets\n",
    "counter = 0\n",
    "corpus = \"\"\n",
    "\n",
    "for sample in iter(ds):\n",
    "    content = sample['content']\n",
    "    if content.isascii(): # ignore files with asian symbols\n",
    "      corpus += content\n",
    "      counter+=1\n",
    "      if counter == DATASETS:\n",
    "          break\n",
    "\n",
    "splitted = corpus.split('\\n')\n",
    "to_delete = []\n",
    "flag = False\n",
    "for index, line in enumerate(splitted):\n",
    "    stripped = line.strip()\n",
    "    if '\"\"\"' in line:\n",
    "        flag = not flag\n",
    "\n",
    "    if flag or \\\n",
    "        '>>>' in line or \\\n",
    "        ':param' in line or \\\n",
    "        stripped.startswith('#'):\n",
    "      to_delete.append(index)\n",
    "\n",
    "print(\"Removed lines:\", len(to_delete))\n",
    "\n",
    "for index in sorted(to_delete, reverse=True):\n",
    "    del splitted[index]\n",
    "\n",
    "corpus = '\\n'.join(splitted)"
   ]
  },
  {
   "cell_type": "code",
   "execution_count": 9,
   "id": "15yO1vr45nzS",
   "metadata": {
    "colab": {
     "base_uri": "https://localhost:8080/"
    },
    "executionInfo": {
     "elapsed": 285,
     "status": "ok",
     "timestamp": 1727714440004,
     "user": {
      "displayName": "Juan Carlos Gómez Echevarría",
      "userId": "03946981889435059372"
     },
     "user_tz": -120
    },
    "id": "15yO1vr45nzS",
    "outputId": "084004ec-e734-424b-98cb-9a75c10e39e7"
   },
   "outputs": [
    {
     "name": "stdout",
     "output_type": "stream",
     "text": [
      "{'\\n': 0, ' ': 1, '!': 2, '\"': 3, '#': 4, '$': 5, '%': 6, '&': 7, \"'\": 8, '(': 9, ')': 10, '*': 11, '+': 12, ',': 13, '-': 14, '.': 15, '/': 16, '0': 17, '1': 18, '2': 19, '3': 20, '5': 21, '7': 22, '8': 23, '9': 24, ':': 25, '<': 26, '=': 27, '>': 28, '@': 29, 'A': 30, 'B': 31, 'C': 32, 'D': 33, 'E': 34, 'F': 35, 'G': 36, 'H': 37, 'I': 38, 'J': 39, 'K': 40, 'L': 41, 'M': 42, 'N': 43, 'O': 44, 'P': 45, 'R': 46, 'S': 47, 'T': 48, 'U': 49, 'V': 50, 'W': 51, 'Y': 52, 'Z': 53, '[': 54, '\\\\': 55, ']': 56, '^': 57, '_': 58, '`': 59, 'a': 60, 'b': 61, 'c': 62, 'd': 63, 'e': 64, 'f': 65, 'g': 66, 'h': 67, 'i': 68, 'j': 69, 'k': 70, 'l': 71, 'm': 72, 'n': 73, 'o': 74, 'p': 75, 'q': 76, 'r': 77, 's': 78, 't': 79, 'u': 80, 'v': 81, 'w': 82, 'x': 83, 'y': 84, 'z': 85, '{': 86, '}': 87}\n",
      "88\n"
     ]
    },
    {
     "data": {
      "text/plain": [
       "52431"
      ]
     },
     "execution_count": 9,
     "metadata": {},
     "output_type": "execute_result"
    }
   ],
   "source": [
    "# Vectorize text\n",
    "\n",
    "maxlen = 60 # sequences length\n",
    "step = 3 # letters by sequence\n",
    "\n",
    "sentences = []\n",
    "next_chars = []\n",
    "\n",
    "for i in range(0, len(corpus) - maxlen, step):\n",
    "    sentences.append(corpus[i: i + maxlen])\n",
    "    next_chars.append(corpus[i + maxlen])\n",
    "\n",
    "# Letters corpus creation\n",
    "unique_chars = sorted(list(set(corpus)))\n",
    "char_indices = {char : i for i,char in enumerate(unique_chars) }\n",
    "print(char_indices)\n",
    "print(len(unique_chars))\n",
    "len(corpus)"
   ]
  },
  {
   "cell_type": "code",
   "execution_count": null,
   "id": "RwFuEkeM61ca",
   "metadata": {
    "colab": {
     "base_uri": "https://localhost:8080/"
    },
    "executionInfo": {
     "elapsed": 2564,
     "status": "ok",
     "timestamp": 1727523600122,
     "user": {
      "displayName": "Vanguard Cars",
      "userId": "12463642675138994450"
     },
     "user_tz": -120
    },
    "id": "RwFuEkeM61ca",
    "outputId": "420c7037-bd49-4d1a-ec9a-8d7f1f2a33d4"
   },
   "outputs": [
    {
     "name": "stdout",
     "output_type": "stream",
     "text": [
      "(67780, 60, 97)\n",
      "(67780, 97)\n"
     ]
    }
   ],
   "source": [
    "# Vectorization (one hot encoding)\n",
    "x = np.zeros((len(sentences), maxlen, len(unique_chars)), dtype=bool) # every sequence, hot encoded\n",
    "y = np.zeros((len(sentences), len(unique_chars)), dtype=bool) # for every sequence, hot encoded next character\n",
    "for i, sentence in enumerate(sentences):\n",
    "    for t, char in enumerate(sentence):\n",
    "        x[i, t, char_indices[char]] = 1\n",
    "    y[i, char_indices[next_chars[i]]] = 1\n",
    "print(x.shape)\n",
    "print(y.shape)"
   ]
  },
  {
   "cell_type": "code",
   "execution_count": null,
   "id": "Uk0-gFHI-LNY",
   "metadata": {
    "colab": {
     "base_uri": "https://localhost:8080/",
     "height": 272
    },
    "executionInfo": {
     "elapsed": 3,
     "status": "ok",
     "timestamp": 1727523600123,
     "user": {
      "displayName": "Vanguard Cars",
      "userId": "12463642675138994450"
     },
     "user_tz": -120
    },
    "id": "Uk0-gFHI-LNY",
    "outputId": "48d3aed1-5ecd-43af-c6b7-8387a6c8f00f"
   },
   "outputs": [
    {
     "data": {
      "text/html": [
       "<pre style=\"white-space:pre;overflow-x:auto;line-height:normal;font-family:Menlo,'DejaVu Sans Mono',consolas,'Courier New',monospace\"><span style=\"font-weight: bold\">Model: \"sequential_1\"</span>\n",
       "</pre>\n"
      ],
      "text/plain": [
       "\u001b[1mModel: \"sequential_1\"\u001b[0m\n"
      ]
     },
     "metadata": {},
     "output_type": "display_data"
    },
    {
     "data": {
      "text/html": [
       "<pre style=\"white-space:pre;overflow-x:auto;line-height:normal;font-family:Menlo,'DejaVu Sans Mono',consolas,'Courier New',monospace\">┏━━━━━━━━━━━━━━━━━━━━━━━━━━━━━━━━━━━━━━┳━━━━━━━━━━━━━━━━━━━━━━━━━━━━━┳━━━━━━━━━━━━━━━━━┓\n",
       "┃<span style=\"font-weight: bold\"> Layer (type)                         </span>┃<span style=\"font-weight: bold\"> Output Shape                </span>┃<span style=\"font-weight: bold\">         Param # </span>┃\n",
       "┡━━━━━━━━━━━━━━━━━━━━━━━━━━━━━━━━━━━━━━╇━━━━━━━━━━━━━━━━━━━━━━━━━━━━━╇━━━━━━━━━━━━━━━━━┩\n",
       "│ lstm_3 (<span style=\"color: #0087ff; text-decoration-color: #0087ff\">LSTM</span>)                        │ (<span style=\"color: #00d7ff; text-decoration-color: #00d7ff\">None</span>, <span style=\"color: #00af00; text-decoration-color: #00af00\">60</span>, <span style=\"color: #00af00; text-decoration-color: #00af00\">256</span>)             │         <span style=\"color: #00af00; text-decoration-color: #00af00\">362,496</span> │\n",
       "├──────────────────────────────────────┼─────────────────────────────┼─────────────────┤\n",
       "│ lstm_4 (<span style=\"color: #0087ff; text-decoration-color: #0087ff\">LSTM</span>)                        │ (<span style=\"color: #00d7ff; text-decoration-color: #00d7ff\">None</span>, <span style=\"color: #00af00; text-decoration-color: #00af00\">60</span>, <span style=\"color: #00af00; text-decoration-color: #00af00\">64</span>)              │          <span style=\"color: #00af00; text-decoration-color: #00af00\">82,176</span> │\n",
       "├──────────────────────────────────────┼─────────────────────────────┼─────────────────┤\n",
       "│ lstm_5 (<span style=\"color: #0087ff; text-decoration-color: #0087ff\">LSTM</span>)                        │ (<span style=\"color: #00d7ff; text-decoration-color: #00d7ff\">None</span>, <span style=\"color: #00af00; text-decoration-color: #00af00\">64</span>)                  │          <span style=\"color: #00af00; text-decoration-color: #00af00\">33,024</span> │\n",
       "├──────────────────────────────────────┼─────────────────────────────┼─────────────────┤\n",
       "│ dense_1 (<span style=\"color: #0087ff; text-decoration-color: #0087ff\">Dense</span>)                      │ (<span style=\"color: #00d7ff; text-decoration-color: #00d7ff\">None</span>, <span style=\"color: #00af00; text-decoration-color: #00af00\">97</span>)                  │           <span style=\"color: #00af00; text-decoration-color: #00af00\">6,305</span> │\n",
       "└──────────────────────────────────────┴─────────────────────────────┴─────────────────┘\n",
       "</pre>\n"
      ],
      "text/plain": [
       "┏━━━━━━━━━━━━━━━━━━━━━━━━━━━━━━━━━━━━━━┳━━━━━━━━━━━━━━━━━━━━━━━━━━━━━┳━━━━━━━━━━━━━━━━━┓\n",
       "┃\u001b[1m \u001b[0m\u001b[1mLayer (type)                        \u001b[0m\u001b[1m \u001b[0m┃\u001b[1m \u001b[0m\u001b[1mOutput Shape               \u001b[0m\u001b[1m \u001b[0m┃\u001b[1m \u001b[0m\u001b[1m        Param #\u001b[0m\u001b[1m \u001b[0m┃\n",
       "┡━━━━━━━━━━━━━━━━━━━━━━━━━━━━━━━━━━━━━━╇━━━━━━━━━━━━━━━━━━━━━━━━━━━━━╇━━━━━━━━━━━━━━━━━┩\n",
       "│ lstm_3 (\u001b[38;5;33mLSTM\u001b[0m)                        │ (\u001b[38;5;45mNone\u001b[0m, \u001b[38;5;34m60\u001b[0m, \u001b[38;5;34m256\u001b[0m)             │         \u001b[38;5;34m362,496\u001b[0m │\n",
       "├──────────────────────────────────────┼─────────────────────────────┼─────────────────┤\n",
       "│ lstm_4 (\u001b[38;5;33mLSTM\u001b[0m)                        │ (\u001b[38;5;45mNone\u001b[0m, \u001b[38;5;34m60\u001b[0m, \u001b[38;5;34m64\u001b[0m)              │          \u001b[38;5;34m82,176\u001b[0m │\n",
       "├──────────────────────────────────────┼─────────────────────────────┼─────────────────┤\n",
       "│ lstm_5 (\u001b[38;5;33mLSTM\u001b[0m)                        │ (\u001b[38;5;45mNone\u001b[0m, \u001b[38;5;34m64\u001b[0m)                  │          \u001b[38;5;34m33,024\u001b[0m │\n",
       "├──────────────────────────────────────┼─────────────────────────────┼─────────────────┤\n",
       "│ dense_1 (\u001b[38;5;33mDense\u001b[0m)                      │ (\u001b[38;5;45mNone\u001b[0m, \u001b[38;5;34m97\u001b[0m)                  │           \u001b[38;5;34m6,305\u001b[0m │\n",
       "└──────────────────────────────────────┴─────────────────────────────┴─────────────────┘\n"
      ]
     },
     "metadata": {},
     "output_type": "display_data"
    },
    {
     "data": {
      "text/html": [
       "<pre style=\"white-space:pre;overflow-x:auto;line-height:normal;font-family:Menlo,'DejaVu Sans Mono',consolas,'Courier New',monospace\"><span style=\"font-weight: bold\"> Total params: </span><span style=\"color: #00af00; text-decoration-color: #00af00\">484,001</span> (1.85 MB)\n",
       "</pre>\n"
      ],
      "text/plain": [
       "\u001b[1m Total params: \u001b[0m\u001b[38;5;34m484,001\u001b[0m (1.85 MB)\n"
      ]
     },
     "metadata": {},
     "output_type": "display_data"
    },
    {
     "data": {
      "text/html": [
       "<pre style=\"white-space:pre;overflow-x:auto;line-height:normal;font-family:Menlo,'DejaVu Sans Mono',consolas,'Courier New',monospace\"><span style=\"font-weight: bold\"> Trainable params: </span><span style=\"color: #00af00; text-decoration-color: #00af00\">484,001</span> (1.85 MB)\n",
       "</pre>\n"
      ],
      "text/plain": [
       "\u001b[1m Trainable params: \u001b[0m\u001b[38;5;34m484,001\u001b[0m (1.85 MB)\n"
      ]
     },
     "metadata": {},
     "output_type": "display_data"
    },
    {
     "data": {
      "text/html": [
       "<pre style=\"white-space:pre;overflow-x:auto;line-height:normal;font-family:Menlo,'DejaVu Sans Mono',consolas,'Courier New',monospace\"><span style=\"font-weight: bold\"> Non-trainable params: </span><span style=\"color: #00af00; text-decoration-color: #00af00\">0</span> (0.00 B)\n",
       "</pre>\n"
      ],
      "text/plain": [
       "\u001b[1m Non-trainable params: \u001b[0m\u001b[38;5;34m0\u001b[0m (0.00 B)\n"
      ]
     },
     "metadata": {},
     "output_type": "display_data"
    }
   ],
   "source": [
    "# LSTM model\n",
    "model = models.Sequential()\n",
    "model.add(LSTM(256, input_shape=(maxlen, len(unique_chars)), return_sequences=True)) # returns 128 dim vector sequence\n",
    "# # model.add(LSTM(64)) # v1\n",
    "# # model.add(Bidirectional(LSTM(64))) # v2\n",
    "# model.add(LSTM(64, recurrent_dropout=0.25)) # v3, v4\n",
    "model.add(LSTM(64, recurrent_dropout=0.25, return_sequences=True)) # v5\n",
    "model.add(LSTM(64, recurrent_dropout=0.25)) # v5\n",
    "model.add(layers.Dense(len(unique_chars), activation='softmax'))\n",
    "model.compile(optimizer='rmsprop', loss='categorical_crossentropy', metrics=['acc'])\n",
    "model.summary()"
   ]
  },
  {
   "cell_type": "code",
   "execution_count": null,
   "id": "4nZ_46-M7HmT",
   "metadata": {
    "colab": {
     "base_uri": "https://localhost:8080/"
    },
    "executionInfo": {
     "elapsed": 6677317,
     "status": "ok",
     "timestamp": 1727530290078,
     "user": {
      "displayName": "Vanguard Cars",
      "userId": "12463642675138994450"
     },
     "user_tz": -120
    },
    "id": "4nZ_46-M7HmT",
    "outputId": "df1413cd-20e2-48a5-df8f-3c9ee7989d0b"
   },
   "outputs": [
    {
     "name": "stdout",
     "output_type": "stream",
     "text": [
      "Epoch 1/1000\n",
      "\u001b[1m530/530\u001b[0m \u001b[32m━━━━━━━━━━━━━━━━━━━━\u001b[0m\u001b[37m\u001b[0m \u001b[1m0s\u001b[0m 204ms/step - acc: 0.2431 - loss: 3.3286\n",
      "Epoch 1: saving model to /content/drive/MyDrive/TFM/checkpoints_hito2/test_v4_datasets_80.weights.h5\n",
      "\u001b[1m530/530\u001b[0m \u001b[32m━━━━━━━━━━━━━━━━━━━━\u001b[0m\u001b[37m\u001b[0m \u001b[1m111s\u001b[0m 204ms/step - acc: 0.2431 - loss: 3.3283\n",
      "Epoch 2/1000\n",
      "\u001b[1m530/530\u001b[0m \u001b[32m━━━━━━━━━━━━━━━━━━━━\u001b[0m\u001b[37m\u001b[0m \u001b[1m0s\u001b[0m 200ms/step - acc: 0.2668 - loss: 2.9315\n",
      "Epoch 2: saving model to /content/drive/MyDrive/TFM/checkpoints_hito2/test_v4_datasets_80.weights.h5\n",
      "\u001b[1m530/530\u001b[0m \u001b[32m━━━━━━━━━━━━━━━━━━━━\u001b[0m\u001b[37m\u001b[0m \u001b[1m140s\u001b[0m 201ms/step - acc: 0.2668 - loss: 2.9314\n",
      "Epoch 3/1000\n",
      "\u001b[1m530/530\u001b[0m \u001b[32m━━━━━━━━━━━━━━━━━━━━\u001b[0m\u001b[37m\u001b[0m \u001b[1m0s\u001b[0m 207ms/step - acc: 0.3085 - loss: 2.6976\n",
      "Epoch 3: saving model to /content/drive/MyDrive/TFM/checkpoints_hito2/test_v4_datasets_80.weights.h5\n",
      "\u001b[1m530/530\u001b[0m \u001b[32m━━━━━━━━━━━━━━━━━━━━\u001b[0m\u001b[37m\u001b[0m \u001b[1m146s\u001b[0m 208ms/step - acc: 0.3085 - loss: 2.6975\n",
      "Epoch 4/1000\n",
      "\u001b[1m530/530\u001b[0m \u001b[32m━━━━━━━━━━━━━━━━━━━━\u001b[0m\u001b[37m\u001b[0m \u001b[1m0s\u001b[0m 208ms/step - acc: 0.3458 - loss: 2.5327\n",
      "Epoch 4: saving model to /content/drive/MyDrive/TFM/checkpoints_hito2/test_v4_datasets_80.weights.h5\n",
      "\u001b[1m530/530\u001b[0m \u001b[32m━━━━━━━━━━━━━━━━━━━━\u001b[0m\u001b[37m\u001b[0m \u001b[1m142s\u001b[0m 209ms/step - acc: 0.3458 - loss: 2.5326\n",
      "Epoch 5/1000\n",
      "\u001b[1m530/530\u001b[0m \u001b[32m━━━━━━━━━━━━━━━━━━━━\u001b[0m\u001b[37m\u001b[0m \u001b[1m0s\u001b[0m 204ms/step - acc: 0.3875 - loss: 2.3580\n",
      "Epoch 5: saving model to /content/drive/MyDrive/TFM/checkpoints_hito2/test_v4_datasets_80.weights.h5\n",
      "\u001b[1m530/530\u001b[0m \u001b[32m━━━━━━━━━━━━━━━━━━━━\u001b[0m\u001b[37m\u001b[0m \u001b[1m140s\u001b[0m 206ms/step - acc: 0.3875 - loss: 2.3580\n",
      "Epoch 6/1000\n",
      "\u001b[1m530/530\u001b[0m \u001b[32m━━━━━━━━━━━━━━━━━━━━\u001b[0m\u001b[37m\u001b[0m \u001b[1m0s\u001b[0m 206ms/step - acc: 0.4200 - loss: 2.2247\n",
      "Epoch 6: saving model to /content/drive/MyDrive/TFM/checkpoints_hito2/test_v4_datasets_80.weights.h5\n",
      "\u001b[1m530/530\u001b[0m \u001b[32m━━━━━━━━━━━━━━━━━━━━\u001b[0m\u001b[37m\u001b[0m \u001b[1m143s\u001b[0m 207ms/step - acc: 0.4200 - loss: 2.2246\n",
      "Epoch 7/1000\n",
      "\u001b[1m530/530\u001b[0m \u001b[32m━━━━━━━━━━━━━━━━━━━━\u001b[0m\u001b[37m\u001b[0m \u001b[1m0s\u001b[0m 203ms/step - acc: 0.4593 - loss: 2.0845\n",
      "Epoch 7: saving model to /content/drive/MyDrive/TFM/checkpoints_hito2/test_v4_datasets_80.weights.h5\n",
      "\u001b[1m530/530\u001b[0m \u001b[32m━━━━━━━━━━━━━━━━━━━━\u001b[0m\u001b[37m\u001b[0m \u001b[1m141s\u001b[0m 205ms/step - acc: 0.4593 - loss: 2.0845\n",
      "Epoch 8/1000\n",
      "\u001b[1m530/530\u001b[0m \u001b[32m━━━━━━━━━━━━━━━━━━━━\u001b[0m\u001b[37m\u001b[0m \u001b[1m0s\u001b[0m 206ms/step - acc: 0.4832 - loss: 1.9809\n",
      "Epoch 8: saving model to /content/drive/MyDrive/TFM/checkpoints_hito2/test_v4_datasets_80.weights.h5\n",
      "\u001b[1m530/530\u001b[0m \u001b[32m━━━━━━━━━━━━━━━━━━━━\u001b[0m\u001b[37m\u001b[0m \u001b[1m143s\u001b[0m 208ms/step - acc: 0.4832 - loss: 1.9809\n",
      "Epoch 9/1000\n",
      "\u001b[1m530/530\u001b[0m \u001b[32m━━━━━━━━━━━━━━━━━━━━\u001b[0m\u001b[37m\u001b[0m \u001b[1m0s\u001b[0m 208ms/step - acc: 0.5137 - loss: 1.8703\n",
      "Epoch 9: saving model to /content/drive/MyDrive/TFM/checkpoints_hito2/test_v4_datasets_80.weights.h5\n",
      "\u001b[1m530/530\u001b[0m \u001b[32m━━━━━━━━━━━━━━━━━━━━\u001b[0m\u001b[37m\u001b[0m \u001b[1m143s\u001b[0m 209ms/step - acc: 0.5137 - loss: 1.8703\n",
      "Epoch 10/1000\n",
      "\u001b[1m530/530\u001b[0m \u001b[32m━━━━━━━━━━━━━━━━━━━━\u001b[0m\u001b[37m\u001b[0m \u001b[1m0s\u001b[0m 206ms/step - acc: 0.5411 - loss: 1.7590\n",
      "Epoch 10: saving model to /content/drive/MyDrive/TFM/checkpoints_hito2/test_v4_datasets_80.weights.h5\n",
      "\u001b[1m530/530\u001b[0m \u001b[32m━━━━━━━━━━━━━━━━━━━━\u001b[0m\u001b[37m\u001b[0m \u001b[1m110s\u001b[0m 207ms/step - acc: 0.5411 - loss: 1.7590\n",
      "Epoch 11/1000\n",
      "\u001b[1m530/530\u001b[0m \u001b[32m━━━━━━━━━━━━━━━━━━━━\u001b[0m\u001b[37m\u001b[0m \u001b[1m0s\u001b[0m 205ms/step - acc: 0.5691 - loss: 1.6629\n",
      "Epoch 11: saving model to /content/drive/MyDrive/TFM/checkpoints_hito2/test_v4_datasets_80.weights.h5\n",
      "\u001b[1m530/530\u001b[0m \u001b[32m━━━━━━━━━━━━━━━━━━━━\u001b[0m\u001b[37m\u001b[0m \u001b[1m109s\u001b[0m 206ms/step - acc: 0.5691 - loss: 1.6629\n",
      "Epoch 12/1000\n",
      "\u001b[1m530/530\u001b[0m \u001b[32m━━━━━━━━━━━━━━━━━━━━\u001b[0m\u001b[37m\u001b[0m \u001b[1m0s\u001b[0m 206ms/step - acc: 0.5929 - loss: 1.5747\n",
      "Epoch 12: saving model to /content/drive/MyDrive/TFM/checkpoints_hito2/test_v4_datasets_80.weights.h5\n",
      "\u001b[1m530/530\u001b[0m \u001b[32m━━━━━━━━━━━━━━━━━━━━\u001b[0m\u001b[37m\u001b[0m \u001b[1m110s\u001b[0m 207ms/step - acc: 0.5929 - loss: 1.5747\n",
      "Epoch 13/1000\n",
      "\u001b[1m530/530\u001b[0m \u001b[32m━━━━━━━━━━━━━━━━━━━━\u001b[0m\u001b[37m\u001b[0m \u001b[1m0s\u001b[0m 206ms/step - acc: 0.6106 - loss: 1.5054\n",
      "Epoch 13: saving model to /content/drive/MyDrive/TFM/checkpoints_hito2/test_v4_datasets_80.weights.h5\n",
      "\u001b[1m530/530\u001b[0m \u001b[32m━━━━━━━━━━━━━━━━━━━━\u001b[0m\u001b[37m\u001b[0m \u001b[1m142s\u001b[0m 208ms/step - acc: 0.6106 - loss: 1.5053\n",
      "Epoch 14/1000\n",
      "\u001b[1m530/530\u001b[0m \u001b[32m━━━━━━━━━━━━━━━━━━━━\u001b[0m\u001b[37m\u001b[0m \u001b[1m0s\u001b[0m 204ms/step - acc: 0.6312 - loss: 1.4221\n",
      "Epoch 14: saving model to /content/drive/MyDrive/TFM/checkpoints_hito2/test_v4_datasets_80.weights.h5\n",
      "\u001b[1m530/530\u001b[0m \u001b[32m━━━━━━━━━━━━━━━━━━━━\u001b[0m\u001b[37m\u001b[0m \u001b[1m141s\u001b[0m 205ms/step - acc: 0.6312 - loss: 1.4221\n",
      "Epoch 15/1000\n",
      "\u001b[1m530/530\u001b[0m \u001b[32m━━━━━━━━━━━━━━━━━━━━\u001b[0m\u001b[37m\u001b[0m \u001b[1m0s\u001b[0m 205ms/step - acc: 0.6507 - loss: 1.3464\n",
      "Epoch 15: saving model to /content/drive/MyDrive/TFM/checkpoints_hito2/test_v4_datasets_80.weights.h5\n",
      "\u001b[1m530/530\u001b[0m \u001b[32m━━━━━━━━━━━━━━━━━━━━\u001b[0m\u001b[37m\u001b[0m \u001b[1m142s\u001b[0m 206ms/step - acc: 0.6507 - loss: 1.3464\n",
      "Epoch 16/1000\n",
      "\u001b[1m530/530\u001b[0m \u001b[32m━━━━━━━━━━━━━━━━━━━━\u001b[0m\u001b[37m\u001b[0m \u001b[1m0s\u001b[0m 205ms/step - acc: 0.6715 - loss: 1.2687\n",
      "Epoch 16: saving model to /content/drive/MyDrive/TFM/checkpoints_hito2/test_v4_datasets_80.weights.h5\n",
      "\u001b[1m530/530\u001b[0m \u001b[32m━━━━━━━━━━━━━━━━━━━━\u001b[0m\u001b[37m\u001b[0m \u001b[1m142s\u001b[0m 206ms/step - acc: 0.6715 - loss: 1.2687\n",
      "Epoch 17/1000\n",
      "\u001b[1m530/530\u001b[0m \u001b[32m━━━━━━━━━━━━━━━━━━━━\u001b[0m\u001b[37m\u001b[0m \u001b[1m0s\u001b[0m 205ms/step - acc: 0.6851 - loss: 1.2107\n",
      "Epoch 17: saving model to /content/drive/MyDrive/TFM/checkpoints_hito2/test_v4_datasets_80.weights.h5\n",
      "\u001b[1m530/530\u001b[0m \u001b[32m━━━━━━━━━━━━━━━━━━━━\u001b[0m\u001b[37m\u001b[0m \u001b[1m142s\u001b[0m 206ms/step - acc: 0.6851 - loss: 1.2107\n",
      "Epoch 18/1000\n",
      "\u001b[1m530/530\u001b[0m \u001b[32m━━━━━━━━━━━━━━━━━━━━\u001b[0m\u001b[37m\u001b[0m \u001b[1m0s\u001b[0m 207ms/step - acc: 0.7048 - loss: 1.1359\n",
      "Epoch 18: saving model to /content/drive/MyDrive/TFM/checkpoints_hito2/test_v4_datasets_80.weights.h5\n",
      "\u001b[1m530/530\u001b[0m \u001b[32m━━━━━━━━━━━━━━━━━━━━\u001b[0m\u001b[37m\u001b[0m \u001b[1m143s\u001b[0m 208ms/step - acc: 0.7048 - loss: 1.1360\n",
      "Epoch 19/1000\n",
      "\u001b[1m530/530\u001b[0m \u001b[32m━━━━━━━━━━━━━━━━━━━━\u001b[0m\u001b[37m\u001b[0m \u001b[1m0s\u001b[0m 207ms/step - acc: 0.7168 - loss: 1.0884\n",
      "Epoch 19: saving model to /content/drive/MyDrive/TFM/checkpoints_hito2/test_v4_datasets_80.weights.h5\n",
      "\u001b[1m530/530\u001b[0m \u001b[32m━━━━━━━━━━━━━━━━━━━━\u001b[0m\u001b[37m\u001b[0m \u001b[1m142s\u001b[0m 208ms/step - acc: 0.7168 - loss: 1.0884\n",
      "Epoch 20/1000\n",
      "\u001b[1m530/530\u001b[0m \u001b[32m━━━━━━━━━━━━━━━━━━━━\u001b[0m\u001b[37m\u001b[0m \u001b[1m0s\u001b[0m 207ms/step - acc: 0.7334 - loss: 1.0262\n",
      "Epoch 20: saving model to /content/drive/MyDrive/TFM/checkpoints_hito2/test_v4_datasets_80.weights.h5\n",
      "\u001b[1m530/530\u001b[0m \u001b[32m━━━━━━━━━━━━━━━━━━━━\u001b[0m\u001b[37m\u001b[0m \u001b[1m142s\u001b[0m 208ms/step - acc: 0.7334 - loss: 1.0262\n",
      "Epoch 21/1000\n",
      "\u001b[1m530/530\u001b[0m \u001b[32m━━━━━━━━━━━━━━━━━━━━\u001b[0m\u001b[37m\u001b[0m \u001b[1m0s\u001b[0m 204ms/step - acc: 0.7466 - loss: 0.9653\n",
      "Epoch 21: saving model to /content/drive/MyDrive/TFM/checkpoints_hito2/test_v4_datasets_80.weights.h5\n",
      "\u001b[1m530/530\u001b[0m \u001b[32m━━━━━━━━━━━━━━━━━━━━\u001b[0m\u001b[37m\u001b[0m \u001b[1m141s\u001b[0m 206ms/step - acc: 0.7466 - loss: 0.9653\n",
      "Epoch 22/1000\n",
      "\u001b[1m530/530\u001b[0m \u001b[32m━━━━━━━━━━━━━━━━━━━━\u001b[0m\u001b[37m\u001b[0m \u001b[1m0s\u001b[0m 220ms/step - acc: 0.7576 - loss: 0.9181\n",
      "Epoch 22: saving model to /content/drive/MyDrive/TFM/checkpoints_hito2/test_v4_datasets_80.weights.h5\n",
      "\u001b[1m530/530\u001b[0m \u001b[32m━━━━━━━━━━━━━━━━━━━━\u001b[0m\u001b[37m\u001b[0m \u001b[1m150s\u001b[0m 221ms/step - acc: 0.7576 - loss: 0.9181\n",
      "Epoch 23/1000\n",
      "\u001b[1m530/530\u001b[0m \u001b[32m━━━━━━━━━━━━━━━━━━━━\u001b[0m\u001b[37m\u001b[0m \u001b[1m0s\u001b[0m 206ms/step - acc: 0.7743 - loss: 0.8597\n",
      "Epoch 23: saving model to /content/drive/MyDrive/TFM/checkpoints_hito2/test_v4_datasets_80.weights.h5\n",
      "\u001b[1m530/530\u001b[0m \u001b[32m━━━━━━━━━━━━━━━━━━━━\u001b[0m\u001b[37m\u001b[0m \u001b[1m134s\u001b[0m 208ms/step - acc: 0.7743 - loss: 0.8598\n",
      "Epoch 24/1000\n",
      "\u001b[1m530/530\u001b[0m \u001b[32m━━━━━━━━━━━━━━━━━━━━\u001b[0m\u001b[37m\u001b[0m \u001b[1m0s\u001b[0m 202ms/step - acc: 0.7875 - loss: 0.8157\n",
      "Epoch 24: saving model to /content/drive/MyDrive/TFM/checkpoints_hito2/test_v4_datasets_80.weights.h5\n",
      "\u001b[1m530/530\u001b[0m \u001b[32m━━━━━━━━━━━━━━━━━━━━\u001b[0m\u001b[37m\u001b[0m \u001b[1m140s\u001b[0m 204ms/step - acc: 0.7875 - loss: 0.8158\n",
      "Epoch 25/1000\n",
      "\u001b[1m530/530\u001b[0m \u001b[32m━━━━━━━━━━━━━━━━━━━━\u001b[0m\u001b[37m\u001b[0m \u001b[1m0s\u001b[0m 208ms/step - acc: 0.7996 - loss: 0.7645\n",
      "Epoch 25: saving model to /content/drive/MyDrive/TFM/checkpoints_hito2/test_v4_datasets_80.weights.h5\n",
      "\u001b[1m530/530\u001b[0m \u001b[32m━━━━━━━━━━━━━━━━━━━━\u001b[0m\u001b[37m\u001b[0m \u001b[1m145s\u001b[0m 209ms/step - acc: 0.7996 - loss: 0.7645\n",
      "Epoch 26/1000\n",
      "\u001b[1m530/530\u001b[0m \u001b[32m━━━━━━━━━━━━━━━━━━━━\u001b[0m\u001b[37m\u001b[0m \u001b[1m0s\u001b[0m 205ms/step - acc: 0.8077 - loss: 0.7335\n",
      "Epoch 26: saving model to /content/drive/MyDrive/TFM/checkpoints_hito2/test_v4_datasets_80.weights.h5\n",
      "\u001b[1m530/530\u001b[0m \u001b[32m━━━━━━━━━━━━━━━━━━━━\u001b[0m\u001b[37m\u001b[0m \u001b[1m141s\u001b[0m 207ms/step - acc: 0.8077 - loss: 0.7335\n",
      "Epoch 27/1000\n",
      "\u001b[1m530/530\u001b[0m \u001b[32m━━━━━━━━━━━━━━━━━━━━\u001b[0m\u001b[37m\u001b[0m \u001b[1m0s\u001b[0m 205ms/step - acc: 0.8212 - loss: 0.6838\n",
      "Epoch 27: saving model to /content/drive/MyDrive/TFM/checkpoints_hito2/test_v4_datasets_80.weights.h5\n",
      "\u001b[1m530/530\u001b[0m \u001b[32m━━━━━━━━━━━━━━━━━━━━\u001b[0m\u001b[37m\u001b[0m \u001b[1m142s\u001b[0m 207ms/step - acc: 0.8212 - loss: 0.6839\n",
      "Epoch 28/1000\n",
      "\u001b[1m530/530\u001b[0m \u001b[32m━━━━━━━━━━━━━━━━━━━━\u001b[0m\u001b[37m\u001b[0m \u001b[1m0s\u001b[0m 205ms/step - acc: 0.8299 - loss: 0.6451\n",
      "Epoch 28: saving model to /content/drive/MyDrive/TFM/checkpoints_hito2/test_v4_datasets_80.weights.h5\n",
      "\u001b[1m530/530\u001b[0m \u001b[32m━━━━━━━━━━━━━━━━━━━━\u001b[0m\u001b[37m\u001b[0m \u001b[1m142s\u001b[0m 207ms/step - acc: 0.8299 - loss: 0.6451\n",
      "Epoch 29/1000\n",
      "\u001b[1m530/530\u001b[0m \u001b[32m━━━━━━━━━━━━━━━━━━━━\u001b[0m\u001b[37m\u001b[0m \u001b[1m0s\u001b[0m 204ms/step - acc: 0.8401 - loss: 0.6150\n",
      "Epoch 29: saving model to /content/drive/MyDrive/TFM/checkpoints_hito2/test_v4_datasets_80.weights.h5\n",
      "\u001b[1m530/530\u001b[0m \u001b[32m━━━━━━━━━━━━━━━━━━━━\u001b[0m\u001b[37m\u001b[0m \u001b[1m142s\u001b[0m 206ms/step - acc: 0.8401 - loss: 0.6150\n",
      "Epoch 30/1000\n",
      "\u001b[1m530/530\u001b[0m \u001b[32m━━━━━━━━━━━━━━━━━━━━\u001b[0m\u001b[37m\u001b[0m \u001b[1m0s\u001b[0m 205ms/step - acc: 0.8527 - loss: 0.5649\n",
      "Epoch 30: saving model to /content/drive/MyDrive/TFM/checkpoints_hito2/test_v4_datasets_80.weights.h5\n",
      "\u001b[1m530/530\u001b[0m \u001b[32m━━━━━━━━━━━━━━━━━━━━\u001b[0m\u001b[37m\u001b[0m \u001b[1m142s\u001b[0m 207ms/step - acc: 0.8527 - loss: 0.5650\n",
      "Epoch 31/1000\n",
      "\u001b[1m530/530\u001b[0m \u001b[32m━━━━━━━━━━━━━━━━━━━━\u001b[0m\u001b[37m\u001b[0m \u001b[1m0s\u001b[0m 206ms/step - acc: 0.8579 - loss: 0.5380\n",
      "Epoch 31: saving model to /content/drive/MyDrive/TFM/checkpoints_hito2/test_v4_datasets_80.weights.h5\n",
      "\u001b[1m530/530\u001b[0m \u001b[32m━━━━━━━━━━━━━━━━━━━━\u001b[0m\u001b[37m\u001b[0m \u001b[1m110s\u001b[0m 208ms/step - acc: 0.8579 - loss: 0.5380\n",
      "Epoch 32/1000\n",
      "\u001b[1m530/530\u001b[0m \u001b[32m━━━━━━━━━━━━━━━━━━━━\u001b[0m\u001b[37m\u001b[0m \u001b[1m0s\u001b[0m 207ms/step - acc: 0.8681 - loss: 0.4987\n",
      "Epoch 32: saving model to /content/drive/MyDrive/TFM/checkpoints_hito2/test_v4_datasets_80.weights.h5\n",
      "\u001b[1m530/530\u001b[0m \u001b[32m━━━━━━━━━━━━━━━━━━━━\u001b[0m\u001b[37m\u001b[0m \u001b[1m143s\u001b[0m 209ms/step - acc: 0.8681 - loss: 0.4988\n",
      "Epoch 33/1000\n",
      "\u001b[1m530/530\u001b[0m \u001b[32m━━━━━━━━━━━━━━━━━━━━\u001b[0m\u001b[37m\u001b[0m \u001b[1m0s\u001b[0m 208ms/step - acc: 0.8746 - loss: 0.4780\n",
      "Epoch 33: saving model to /content/drive/MyDrive/TFM/checkpoints_hito2/test_v4_datasets_80.weights.h5\n",
      "\u001b[1m530/530\u001b[0m \u001b[32m━━━━━━━━━━━━━━━━━━━━\u001b[0m\u001b[37m\u001b[0m \u001b[1m142s\u001b[0m 210ms/step - acc: 0.8746 - loss: 0.4781\n",
      "Epoch 34/1000\n",
      "\u001b[1m530/530\u001b[0m \u001b[32m━━━━━━━━━━━━━━━━━━━━\u001b[0m\u001b[37m\u001b[0m \u001b[1m0s\u001b[0m 209ms/step - acc: 0.8840 - loss: 0.4457\n",
      "Epoch 34: saving model to /content/drive/MyDrive/TFM/checkpoints_hito2/test_v4_datasets_80.weights.h5\n",
      "\u001b[1m530/530\u001b[0m \u001b[32m━━━━━━━━━━━━━━━━━━━━\u001b[0m\u001b[37m\u001b[0m \u001b[1m142s\u001b[0m 210ms/step - acc: 0.8840 - loss: 0.4457\n",
      "Epoch 35/1000\n",
      "\u001b[1m530/530\u001b[0m \u001b[32m━━━━━━━━━━━━━━━━━━━━\u001b[0m\u001b[37m\u001b[0m \u001b[1m0s\u001b[0m 206ms/step - acc: 0.8902 - loss: 0.4234\n",
      "Epoch 35: saving model to /content/drive/MyDrive/TFM/checkpoints_hito2/test_v4_datasets_80.weights.h5\n",
      "\u001b[1m530/530\u001b[0m \u001b[32m━━━━━━━━━━━━━━━━━━━━\u001b[0m\u001b[37m\u001b[0m \u001b[1m141s\u001b[0m 207ms/step - acc: 0.8902 - loss: 0.4234\n",
      "Epoch 36/1000\n",
      "\u001b[1m530/530\u001b[0m \u001b[32m━━━━━━━━━━━━━━━━━━━━\u001b[0m\u001b[37m\u001b[0m \u001b[1m0s\u001b[0m 207ms/step - acc: 0.8979 - loss: 0.3973\n",
      "Epoch 36: saving model to /content/drive/MyDrive/TFM/checkpoints_hito2/test_v4_datasets_80.weights.h5\n",
      "\u001b[1m530/530\u001b[0m \u001b[32m━━━━━━━━━━━━━━━━━━━━\u001b[0m\u001b[37m\u001b[0m \u001b[1m110s\u001b[0m 208ms/step - acc: 0.8979 - loss: 0.3974\n",
      "Epoch 37/1000\n",
      "\u001b[1m530/530\u001b[0m \u001b[32m━━━━━━━━━━━━━━━━━━━━\u001b[0m\u001b[37m\u001b[0m \u001b[1m0s\u001b[0m 209ms/step - acc: 0.9035 - loss: 0.3700\n",
      "Epoch 37: saving model to /content/drive/MyDrive/TFM/checkpoints_hito2/test_v4_datasets_80.weights.h5\n",
      "\u001b[1m530/530\u001b[0m \u001b[32m━━━━━━━━━━━━━━━━━━━━\u001b[0m\u001b[37m\u001b[0m \u001b[1m143s\u001b[0m 210ms/step - acc: 0.9035 - loss: 0.3700\n",
      "Epoch 38/1000\n",
      "\u001b[1m530/530\u001b[0m \u001b[32m━━━━━━━━━━━━━━━━━━━━\u001b[0m\u001b[37m\u001b[0m \u001b[1m0s\u001b[0m 206ms/step - acc: 0.9099 - loss: 0.3500\n",
      "Epoch 38: saving model to /content/drive/MyDrive/TFM/checkpoints_hito2/test_v4_datasets_80.weights.h5\n",
      "\u001b[1m530/530\u001b[0m \u001b[32m━━━━━━━━━━━━━━━━━━━━\u001b[0m\u001b[37m\u001b[0m \u001b[1m141s\u001b[0m 208ms/step - acc: 0.9099 - loss: 0.3500\n",
      "Epoch 39/1000\n",
      "\u001b[1m530/530\u001b[0m \u001b[32m━━━━━━━━━━━━━━━━━━━━\u001b[0m\u001b[37m\u001b[0m \u001b[1m0s\u001b[0m 205ms/step - acc: 0.9141 - loss: 0.3311\n",
      "Epoch 39: saving model to /content/drive/MyDrive/TFM/checkpoints_hito2/test_v4_datasets_80.weights.h5\n",
      "\u001b[1m530/530\u001b[0m \u001b[32m━━━━━━━━━━━━━━━━━━━━\u001b[0m\u001b[37m\u001b[0m \u001b[1m109s\u001b[0m 206ms/step - acc: 0.9141 - loss: 0.3311\n",
      "Epoch 40/1000\n",
      "\u001b[1m530/530\u001b[0m \u001b[32m━━━━━━━━━━━━━━━━━━━━\u001b[0m\u001b[37m\u001b[0m \u001b[1m0s\u001b[0m 207ms/step - acc: 0.9198 - loss: 0.3135\n",
      "Epoch 40: saving model to /content/drive/MyDrive/TFM/checkpoints_hito2/test_v4_datasets_80.weights.h5\n",
      "\u001b[1m530/530\u001b[0m \u001b[32m━━━━━━━━━━━━━━━━━━━━\u001b[0m\u001b[37m\u001b[0m \u001b[1m143s\u001b[0m 209ms/step - acc: 0.9198 - loss: 0.3135\n",
      "Epoch 41/1000\n",
      "\u001b[1m530/530\u001b[0m \u001b[32m━━━━━━━━━━━━━━━━━━━━\u001b[0m\u001b[37m\u001b[0m \u001b[1m0s\u001b[0m 208ms/step - acc: 0.9229 - loss: 0.2976\n",
      "Epoch 41: saving model to /content/drive/MyDrive/TFM/checkpoints_hito2/test_v4_datasets_80.weights.h5\n",
      "\u001b[1m530/530\u001b[0m \u001b[32m━━━━━━━━━━━━━━━━━━━━\u001b[0m\u001b[37m\u001b[0m \u001b[1m142s\u001b[0m 209ms/step - acc: 0.9229 - loss: 0.2977\n",
      "Epoch 42/1000\n",
      "\u001b[1m530/530\u001b[0m \u001b[32m━━━━━━━━━━━━━━━━━━━━\u001b[0m\u001b[37m\u001b[0m \u001b[1m0s\u001b[0m 210ms/step - acc: 0.9269 - loss: 0.2812\n",
      "Epoch 42: saving model to /content/drive/MyDrive/TFM/checkpoints_hito2/test_v4_datasets_80.weights.h5\n",
      "\u001b[1m530/530\u001b[0m \u001b[32m━━━━━━━━━━━━━━━━━━━━\u001b[0m\u001b[37m\u001b[0m \u001b[1m112s\u001b[0m 212ms/step - acc: 0.9269 - loss: 0.2813\n",
      "Epoch 43/1000\n",
      "\u001b[1m530/530\u001b[0m \u001b[32m━━━━━━━━━━━━━━━━━━━━\u001b[0m\u001b[37m\u001b[0m \u001b[1m0s\u001b[0m 210ms/step - acc: 0.9301 - loss: 0.2677\n",
      "Epoch 43: saving model to /content/drive/MyDrive/TFM/checkpoints_hito2/test_v4_datasets_80.weights.h5\n",
      "\u001b[1m530/530\u001b[0m \u001b[32m━━━━━━━━━━━━━━━━━━━━\u001b[0m\u001b[37m\u001b[0m \u001b[1m142s\u001b[0m 212ms/step - acc: 0.9301 - loss: 0.2677\n",
      "Epoch 44/1000\n",
      "\u001b[1m530/530\u001b[0m \u001b[32m━━━━━━━━━━━━━━━━━━━━\u001b[0m\u001b[37m\u001b[0m \u001b[1m0s\u001b[0m 209ms/step - acc: 0.9353 - loss: 0.2551\n",
      "Epoch 44: saving model to /content/drive/MyDrive/TFM/checkpoints_hito2/test_v4_datasets_80.weights.h5\n",
      "\u001b[1m530/530\u001b[0m \u001b[32m━━━━━━━━━━━━━━━━━━━━\u001b[0m\u001b[37m\u001b[0m \u001b[1m141s\u001b[0m 210ms/step - acc: 0.9353 - loss: 0.2551\n",
      "Epoch 45/1000\n",
      "\u001b[1m530/530\u001b[0m \u001b[32m━━━━━━━━━━━━━━━━━━━━\u001b[0m\u001b[37m\u001b[0m \u001b[1m0s\u001b[0m 207ms/step - acc: 0.9368 - loss: 0.2470\n",
      "Epoch 45: saving model to /content/drive/MyDrive/TFM/checkpoints_hito2/test_v4_datasets_80.weights.h5\n",
      "\u001b[1m530/530\u001b[0m \u001b[32m━━━━━━━━━━━━━━━━━━━━\u001b[0m\u001b[37m\u001b[0m \u001b[1m142s\u001b[0m 210ms/step - acc: 0.9367 - loss: 0.2471\n",
      "Epoch 46/1000\n",
      "\u001b[1m530/530\u001b[0m \u001b[32m━━━━━━━━━━━━━━━━━━━━\u001b[0m\u001b[37m\u001b[0m \u001b[1m0s\u001b[0m 210ms/step - acc: 0.9415 - loss: 0.2261\n",
      "Epoch 46: saving model to /content/drive/MyDrive/TFM/checkpoints_hito2/test_v4_datasets_80.weights.h5\n",
      "\u001b[1m530/530\u001b[0m \u001b[32m━━━━━━━━━━━━━━━━━━━━\u001b[0m\u001b[37m\u001b[0m \u001b[1m142s\u001b[0m 211ms/step - acc: 0.9415 - loss: 0.2261\n",
      "Epoch 47/1000\n",
      "\u001b[1m530/530\u001b[0m \u001b[32m━━━━━━━━━━━━━━━━━━━━\u001b[0m\u001b[37m\u001b[0m \u001b[1m0s\u001b[0m 211ms/step - acc: 0.9434 - loss: 0.2209\n",
      "Epoch 47: saving model to /content/drive/MyDrive/TFM/checkpoints_hito2/test_v4_datasets_80.weights.h5\n",
      "\u001b[1m530/530\u001b[0m \u001b[32m━━━━━━━━━━━━━━━━━━━━\u001b[0m\u001b[37m\u001b[0m \u001b[1m143s\u001b[0m 213ms/step - acc: 0.9434 - loss: 0.2209\n",
      "Epoch 48/1000\n",
      "\u001b[1m530/530\u001b[0m \u001b[32m━━━━━━━━━━━━━━━━━━━━\u001b[0m\u001b[37m\u001b[0m \u001b[1m0s\u001b[0m 212ms/step - acc: 0.9454 - loss: 0.2108\n",
      "Epoch 48: saving model to /content/drive/MyDrive/TFM/checkpoints_hito2/test_v4_datasets_80.weights.h5\n",
      "\u001b[1m530/530\u001b[0m \u001b[32m━━━━━━━━━━━━━━━━━━━━\u001b[0m\u001b[37m\u001b[0m \u001b[1m142s\u001b[0m 213ms/step - acc: 0.9454 - loss: 0.2108\n",
      "Epoch 49/1000\n",
      "\u001b[1m530/530\u001b[0m \u001b[32m━━━━━━━━━━━━━━━━━━━━\u001b[0m\u001b[37m\u001b[0m \u001b[1m0s\u001b[0m 211ms/step - acc: 0.9510 - loss: 0.1978\n",
      "Epoch 49: saving model to /content/drive/MyDrive/TFM/checkpoints_hito2/test_v4_datasets_80.weights.h5\n",
      "\u001b[1m530/530\u001b[0m \u001b[32m━━━━━━━━━━━━━━━━━━━━\u001b[0m\u001b[37m\u001b[0m \u001b[1m113s\u001b[0m 212ms/step - acc: 0.9510 - loss: 0.1978\n"
     ]
    }
   ],
   "source": [
    "# Train model\n",
    "# history = model.load_weights(f\"{CHECKPOINTS_FOLDER}/test_{VERSION}_datasets_{DATASETS}.weights.h5\")\n",
    "history = model.fit(x, y, batch_size=128, epochs=1000, callbacks=[\n",
    "    tf.keras.callbacks.ModelCheckpoint(\n",
    "        filepath=f\"{CHECKPOINTS_FOLDER}/test_{VERSION}_datasets_{DATASETS}.weights.h5\",\n",
    "        save_weights_only=True,\n",
    "        verbose=1\n",
    "    ),\n",
    "    tf.keras.callbacks.EarlyStopping(\n",
    "        monitor=\"acc\",\n",
    "        min_delta=0.01,\n",
    "        patience=3\n",
    "    )\n",
    "])\n",
    "\n",
    "# model = tf.keras.models.load_model(f'{MODELS_FOLDER}/test_{VERSION}_datasets_{DATASETS}.keras')\n",
    "model.save(f'{MODELS_FOLDER}/test_{VERSION}_datasets_{DATASETS}.keras')"
   ]
  },
  {
   "cell_type": "code",
   "execution_count": null,
   "id": "zGAvlSJPq_lD",
   "metadata": {
    "id": "zGAvlSJPq_lD"
   },
   "outputs": [],
   "source": [
    "# from google.colab import runtime\n",
    "# runtime.unassign()"
   ]
  },
  {
   "cell_type": "code",
   "execution_count": null,
   "id": "OtdHB3ZX7Woy",
   "metadata": {
    "id": "OtdHB3ZX7Woy"
   },
   "outputs": [],
   "source": [
    "def transform_distribution(predictions, temperature=0.5):\n",
    "    \"\"\"\n",
    "      Calculate character position from prediction\n",
    "    \"\"\"\n",
    "    predictions = np.array(predictions).astype('float64')\n",
    "    predictions = np.log(predictions) / temperature\n",
    "    exp_predictions = np.exp(predictions)\n",
    "    predictions = exp_predictions / np.sum(exp_predictions) # check if values sum 1 (probability)\n",
    "    probs = np.random.multinomial(1, predictions, 1)\n",
    "    return np.argmax(probs)"
   ]
  },
  {
   "cell_type": "code",
   "execution_count": null,
   "id": "faa95010-505b-4d26-814a-f528539b544c",
   "metadata": {
    "id": "faa95010-505b-4d26-814a-f528539b544c"
   },
   "outputs": [],
   "source": [
    "def predict_code(input_text, predict_length=500, temperature=0.35):\n",
    "    print('Seed: ' + input_text)\n",
    "    generated_text = input_text\n",
    "\n",
    "    for i in range(predict_length): # generate as many characters as requested\n",
    "        sampled = np.zeros((1, maxlen, len(unique_chars))) # create array for one hot encoded input text\n",
    "        for t, char in enumerate(input_text): # for every char in input_text\n",
    "            sampled[0, t, char_indices[char]] = 1. # one hot encode input text\n",
    "\n",
    "        prediction = model.predict(sampled, verbose=0)[0] # predict next character for one hot encoded input text\n",
    "        next_index = transform_distribution(prediction, temperature) # get character most likely to be the next\n",
    "        next_char = unique_chars[next_index] # get character from vectorized chars vector\n",
    "\n",
    "        input_text += next_char # add char to input text\n",
    "        generated_text += next_char # add char to final variable\n",
    "        input_text = input_text[1:] # remove first char from input text and continue\n",
    "\n",
    "    return generated_text"
   ]
  },
  {
   "cell_type": "code",
   "execution_count": null,
   "id": "9bVAaV4I7k-R",
   "metadata": {
    "colab": {
     "base_uri": "https://localhost:8080/"
    },
    "executionInfo": {
     "elapsed": 51800,
     "status": "ok",
     "timestamp": 1727531275155,
     "user": {
      "displayName": "Vanguard Cars",
      "userId": "12463642675138994450"
     },
     "user_tz": -120
    },
    "id": "9bVAaV4I7k-R",
    "outputId": "36e9a7c9-dac5-4c3a-df3d-86f506bcbfa1"
   },
   "outputs": [
    {
     "name": "stdout",
     "output_type": "stream",
     "text": [
      "Seed: def get_label(code=\"\", label=\"\"):\n",
      "    if code is None:\n",
      "     \n",
      "def get_label(code=\"\", label=\"\"):\n",
      "    if code is None:\n",
      "        self._vim.command('dtaync', *selacted.)\n",
      "            self._vim.command('dyin.not relf._winheight\n",
      "                                                                                                                                                                                                                                                                                                                                                                                                                 \n"
     ]
    }
   ],
   "source": [
    "# generar secuencias arbitrarias de texto\n",
    "predict_length = 500\n",
    "\n",
    "# temperaturas altas: mas entropia (mas aleatorio)\n",
    "# temperaturas bajas: menos estocasticidad (mas deterministico)\n",
    "temperature = 0.2\n",
    "\n",
    "# Test 1\n",
    "\"\"\"\n",
    "    - Param: def get_label(\n",
    "    - Expected:\n",
    "    def get_label(code=\"\", label=\"\"):\n",
    "        if code is None:\n",
    "            code = \"-\"\n",
    "        if label is None:\n",
    "            label = \"inconnu\"\n",
    "        return f\"{code} {label[:30]}\"\n",
    "\"\"\"\n",
    "start_index = 334\n",
    "input_text = corpus[start_index : start_index + maxlen]\n",
    "# print(input_text)\n",
    "prediction = predict_code(input_text, predict_length, temperature)\n",
    "print(prediction)"
   ]
  },
  {
   "cell_type": "code",
   "execution_count": null,
   "id": "GdKckpbR4ocv",
   "metadata": {
    "id": "GdKckpbR4ocv"
   },
   "outputs": [],
   "source": []
  }
 ],
 "metadata": {
  "colab": {
   "provenance": []
  },
  "kernelspec": {
   "display_name": "Python 3 (ipykernel)",
   "language": "python",
   "name": "python3"
  },
  "language_info": {
   "codemirror_mode": {
    "name": "ipython",
    "version": 3
   },
   "file_extension": ".py",
   "mimetype": "text/x-python",
   "name": "python",
   "nbconvert_exporter": "python",
   "pygments_lexer": "ipython3",
   "version": "3.9.19"
  },
  "widgets": {
   "application/vnd.jupyter.widget-state+json": {
    "004c3405a9854683b3ba5cfbdbe04545": {
     "model_module": "@jupyter-widgets/controls",
     "model_module_version": "1.5.0",
     "model_name": "ProgressStyleModel",
     "state": {
      "_model_module": "@jupyter-widgets/controls",
      "_model_module_version": "1.5.0",
      "_model_name": "ProgressStyleModel",
      "_view_count": null,
      "_view_module": "@jupyter-widgets/base",
      "_view_module_version": "1.2.0",
      "_view_name": "StyleView",
      "bar_color": null,
      "description_width": ""
     }
    },
    "064206c013584bacbbdfc8c3dfd62ba7": {
     "model_module": "@jupyter-widgets/base",
     "model_module_version": "1.2.0",
     "model_name": "LayoutModel",
     "state": {
      "_model_module": "@jupyter-widgets/base",
      "_model_module_version": "1.2.0",
      "_model_name": "LayoutModel",
      "_view_count": null,
      "_view_module": "@jupyter-widgets/base",
      "_view_module_version": "1.2.0",
      "_view_name": "LayoutView",
      "align_content": null,
      "align_items": null,
      "align_self": null,
      "border": null,
      "bottom": null,
      "display": null,
      "flex": null,
      "flex_flow": null,
      "grid_area": null,
      "grid_auto_columns": null,
      "grid_auto_flow": null,
      "grid_auto_rows": null,
      "grid_column": null,
      "grid_gap": null,
      "grid_row": null,
      "grid_template_areas": null,
      "grid_template_columns": null,
      "grid_template_rows": null,
      "height": null,
      "justify_content": null,
      "justify_items": null,
      "left": null,
      "margin": null,
      "max_height": null,
      "max_width": null,
      "min_height": null,
      "min_width": null,
      "object_fit": null,
      "object_position": null,
      "order": null,
      "overflow": null,
      "overflow_x": null,
      "overflow_y": null,
      "padding": null,
      "right": null,
      "top": null,
      "visibility": null,
      "width": null
     }
    },
    "0668b921d65a4bb29f6089692797b3fd": {
     "model_module": "@jupyter-widgets/base",
     "model_module_version": "1.2.0",
     "model_name": "LayoutModel",
     "state": {
      "_model_module": "@jupyter-widgets/base",
      "_model_module_version": "1.2.0",
      "_model_name": "LayoutModel",
      "_view_count": null,
      "_view_module": "@jupyter-widgets/base",
      "_view_module_version": "1.2.0",
      "_view_name": "LayoutView",
      "align_content": null,
      "align_items": null,
      "align_self": null,
      "border": null,
      "bottom": null,
      "display": null,
      "flex": null,
      "flex_flow": null,
      "grid_area": null,
      "grid_auto_columns": null,
      "grid_auto_flow": null,
      "grid_auto_rows": null,
      "grid_column": null,
      "grid_gap": null,
      "grid_row": null,
      "grid_template_areas": null,
      "grid_template_columns": null,
      "grid_template_rows": null,
      "height": null,
      "justify_content": null,
      "justify_items": null,
      "left": null,
      "margin": null,
      "max_height": null,
      "max_width": null,
      "min_height": null,
      "min_width": null,
      "object_fit": null,
      "object_position": null,
      "order": null,
      "overflow": null,
      "overflow_x": null,
      "overflow_y": null,
      "padding": null,
      "right": null,
      "top": null,
      "visibility": null,
      "width": null
     }
    },
    "0cc7124c4838492fac5ba80cfdfe7925": {
     "model_module": "@jupyter-widgets/controls",
     "model_module_version": "1.5.0",
     "model_name": "HTMLModel",
     "state": {
      "_dom_classes": [],
      "_model_module": "@jupyter-widgets/controls",
      "_model_module_version": "1.5.0",
      "_model_name": "HTMLModel",
      "_view_count": null,
      "_view_module": "@jupyter-widgets/controls",
      "_view_module_version": "1.5.0",
      "_view_name": "HTMLView",
      "description": "",
      "description_tooltip": null,
      "layout": "IPY_MODEL_0668b921d65a4bb29f6089692797b3fd",
      "placeholder": "​",
      "style": "IPY_MODEL_139f0aac0e144c26ae87986caea5917e",
      "value": " 144/144 [00:00&lt;00:00,  1.47it/s]"
     }
    },
    "0fb32500faa541fbb9670c69a40abc5d": {
     "model_module": "@jupyter-widgets/base",
     "model_module_version": "1.2.0",
     "model_name": "LayoutModel",
     "state": {
      "_model_module": "@jupyter-widgets/base",
      "_model_module_version": "1.2.0",
      "_model_name": "LayoutModel",
      "_view_count": null,
      "_view_module": "@jupyter-widgets/base",
      "_view_module_version": "1.2.0",
      "_view_name": "LayoutView",
      "align_content": null,
      "align_items": null,
      "align_self": null,
      "border": null,
      "bottom": null,
      "display": null,
      "flex": null,
      "flex_flow": null,
      "grid_area": null,
      "grid_auto_columns": null,
      "grid_auto_flow": null,
      "grid_auto_rows": null,
      "grid_column": null,
      "grid_gap": null,
      "grid_row": null,
      "grid_template_areas": null,
      "grid_template_columns": null,
      "grid_template_rows": null,
      "height": null,
      "justify_content": null,
      "justify_items": null,
      "left": null,
      "margin": null,
      "max_height": null,
      "max_width": null,
      "min_height": null,
      "min_width": null,
      "object_fit": null,
      "object_position": null,
      "order": null,
      "overflow": null,
      "overflow_x": null,
      "overflow_y": null,
      "padding": null,
      "right": null,
      "top": null,
      "visibility": null,
      "width": null
     }
    },
    "139f0aac0e144c26ae87986caea5917e": {
     "model_module": "@jupyter-widgets/controls",
     "model_module_version": "1.5.0",
     "model_name": "DescriptionStyleModel",
     "state": {
      "_model_module": "@jupyter-widgets/controls",
      "_model_module_version": "1.5.0",
      "_model_name": "DescriptionStyleModel",
      "_view_count": null,
      "_view_module": "@jupyter-widgets/base",
      "_view_module_version": "1.2.0",
      "_view_name": "StyleView",
      "description_width": ""
     }
    },
    "21bb57bf6f4948e6ac7f55910740175a": {
     "model_module": "@jupyter-widgets/controls",
     "model_module_version": "1.5.0",
     "model_name": "ProgressStyleModel",
     "state": {
      "_model_module": "@jupyter-widgets/controls",
      "_model_module_version": "1.5.0",
      "_model_name": "ProgressStyleModel",
      "_view_count": null,
      "_view_module": "@jupyter-widgets/base",
      "_view_module_version": "1.2.0",
      "_view_name": "StyleView",
      "bar_color": null,
      "description_width": ""
     }
    },
    "273b22e5fab1475cb7a09ae4defc5413": {
     "model_module": "@jupyter-widgets/base",
     "model_module_version": "1.2.0",
     "model_name": "LayoutModel",
     "state": {
      "_model_module": "@jupyter-widgets/base",
      "_model_module_version": "1.2.0",
      "_model_name": "LayoutModel",
      "_view_count": null,
      "_view_module": "@jupyter-widgets/base",
      "_view_module_version": "1.2.0",
      "_view_name": "LayoutView",
      "align_content": null,
      "align_items": null,
      "align_self": null,
      "border": null,
      "bottom": null,
      "display": null,
      "flex": null,
      "flex_flow": null,
      "grid_area": null,
      "grid_auto_columns": null,
      "grid_auto_flow": null,
      "grid_auto_rows": null,
      "grid_column": null,
      "grid_gap": null,
      "grid_row": null,
      "grid_template_areas": null,
      "grid_template_columns": null,
      "grid_template_rows": null,
      "height": null,
      "justify_content": null,
      "justify_items": null,
      "left": null,
      "margin": null,
      "max_height": null,
      "max_width": null,
      "min_height": null,
      "min_width": null,
      "object_fit": null,
      "object_position": null,
      "order": null,
      "overflow": null,
      "overflow_x": null,
      "overflow_y": null,
      "padding": null,
      "right": null,
      "top": null,
      "visibility": null,
      "width": null
     }
    },
    "29605eb7aa1b4455835edfd79dc7bb3f": {
     "model_module": "@jupyter-widgets/base",
     "model_module_version": "1.2.0",
     "model_name": "LayoutModel",
     "state": {
      "_model_module": "@jupyter-widgets/base",
      "_model_module_version": "1.2.0",
      "_model_name": "LayoutModel",
      "_view_count": null,
      "_view_module": "@jupyter-widgets/base",
      "_view_module_version": "1.2.0",
      "_view_name": "LayoutView",
      "align_content": null,
      "align_items": null,
      "align_self": null,
      "border": null,
      "bottom": null,
      "display": null,
      "flex": null,
      "flex_flow": null,
      "grid_area": null,
      "grid_auto_columns": null,
      "grid_auto_flow": null,
      "grid_auto_rows": null,
      "grid_column": null,
      "grid_gap": null,
      "grid_row": null,
      "grid_template_areas": null,
      "grid_template_columns": null,
      "grid_template_rows": null,
      "height": null,
      "justify_content": null,
      "justify_items": null,
      "left": null,
      "margin": null,
      "max_height": null,
      "max_width": null,
      "min_height": null,
      "min_width": null,
      "object_fit": null,
      "object_position": null,
      "order": null,
      "overflow": null,
      "overflow_x": null,
      "overflow_y": null,
      "padding": null,
      "right": null,
      "top": null,
      "visibility": null,
      "width": null
     }
    },
    "4e5023a0a46b4f34a9f95cb3aefdd3c2": {
     "model_module": "@jupyter-widgets/controls",
     "model_module_version": "1.5.0",
     "model_name": "HBoxModel",
     "state": {
      "_dom_classes": [],
      "_model_module": "@jupyter-widgets/controls",
      "_model_module_version": "1.5.0",
      "_model_name": "HBoxModel",
      "_view_count": null,
      "_view_module": "@jupyter-widgets/controls",
      "_view_module_version": "1.5.0",
      "_view_name": "HBoxView",
      "box_style": "",
      "children": [
       "IPY_MODEL_5efdf44f39da4dceba3dee45406c7c14",
       "IPY_MODEL_51a453cad8144572b8d27341f757ba94",
       "IPY_MODEL_0cc7124c4838492fac5ba80cfdfe7925"
      ],
      "layout": "IPY_MODEL_e23914fa4dda44bc98380293e0a52646"
     }
    },
    "51a453cad8144572b8d27341f757ba94": {
     "model_module": "@jupyter-widgets/controls",
     "model_module_version": "1.5.0",
     "model_name": "FloatProgressModel",
     "state": {
      "_dom_classes": [],
      "_model_module": "@jupyter-widgets/controls",
      "_model_module_version": "1.5.0",
      "_model_name": "FloatProgressModel",
      "_view_count": null,
      "_view_module": "@jupyter-widgets/controls",
      "_view_module_version": "1.5.0",
      "_view_name": "ProgressView",
      "bar_style": "success",
      "description": "",
      "description_tooltip": null,
      "layout": "IPY_MODEL_a83f6cc5644e4f26a9f23743cb2dc197",
      "max": 144,
      "min": 0,
      "orientation": "horizontal",
      "style": "IPY_MODEL_21bb57bf6f4948e6ac7f55910740175a",
      "value": 144
     }
    },
    "51da1bb26de349ce9a9f4197aa6f2a45": {
     "model_module": "@jupyter-widgets/controls",
     "model_module_version": "1.5.0",
     "model_name": "HBoxModel",
     "state": {
      "_dom_classes": [],
      "_model_module": "@jupyter-widgets/controls",
      "_model_module_version": "1.5.0",
      "_model_name": "HBoxModel",
      "_view_count": null,
      "_view_module": "@jupyter-widgets/controls",
      "_view_module_version": "1.5.0",
      "_view_name": "HBoxView",
      "box_style": "",
      "children": [
       "IPY_MODEL_9922989264ae46938f8e87a9e2ebb42e",
       "IPY_MODEL_e94914dc87c244828fa75bc687cd44a7",
       "IPY_MODEL_806212d3096c48eab1f9236d839dcbb0"
      ],
      "layout": "IPY_MODEL_064206c013584bacbbdfc8c3dfd62ba7"
     }
    },
    "5efdf44f39da4dceba3dee45406c7c14": {
     "model_module": "@jupyter-widgets/controls",
     "model_module_version": "1.5.0",
     "model_name": "HTMLModel",
     "state": {
      "_dom_classes": [],
      "_model_module": "@jupyter-widgets/controls",
      "_model_module_version": "1.5.0",
      "_model_name": "HTMLModel",
      "_view_count": null,
      "_view_module": "@jupyter-widgets/controls",
      "_view_module_version": "1.5.0",
      "_view_name": "HTMLView",
      "description": "",
      "description_tooltip": null,
      "layout": "IPY_MODEL_7e7c4c333c1d456b87d5745e8c2dc750",
      "placeholder": "​",
      "style": "IPY_MODEL_c71d59713ba24832833e7fdea625513d",
      "value": "Resolving data files: 100%"
     }
    },
    "7e7c4c333c1d456b87d5745e8c2dc750": {
     "model_module": "@jupyter-widgets/base",
     "model_module_version": "1.2.0",
     "model_name": "LayoutModel",
     "state": {
      "_model_module": "@jupyter-widgets/base",
      "_model_module_version": "1.2.0",
      "_model_name": "LayoutModel",
      "_view_count": null,
      "_view_module": "@jupyter-widgets/base",
      "_view_module_version": "1.2.0",
      "_view_name": "LayoutView",
      "align_content": null,
      "align_items": null,
      "align_self": null,
      "border": null,
      "bottom": null,
      "display": null,
      "flex": null,
      "flex_flow": null,
      "grid_area": null,
      "grid_auto_columns": null,
      "grid_auto_flow": null,
      "grid_auto_rows": null,
      "grid_column": null,
      "grid_gap": null,
      "grid_row": null,
      "grid_template_areas": null,
      "grid_template_columns": null,
      "grid_template_rows": null,
      "height": null,
      "justify_content": null,
      "justify_items": null,
      "left": null,
      "margin": null,
      "max_height": null,
      "max_width": null,
      "min_height": null,
      "min_width": null,
      "object_fit": null,
      "object_position": null,
      "order": null,
      "overflow": null,
      "overflow_x": null,
      "overflow_y": null,
      "padding": null,
      "right": null,
      "top": null,
      "visibility": null,
      "width": null
     }
    },
    "806212d3096c48eab1f9236d839dcbb0": {
     "model_module": "@jupyter-widgets/controls",
     "model_module_version": "1.5.0",
     "model_name": "HTMLModel",
     "state": {
      "_dom_classes": [],
      "_model_module": "@jupyter-widgets/controls",
      "_model_module_version": "1.5.0",
      "_model_name": "HTMLModel",
      "_view_count": null,
      "_view_module": "@jupyter-widgets/controls",
      "_view_module_version": "1.5.0",
      "_view_name": "HTMLView",
      "description": "",
      "description_tooltip": null,
      "layout": "IPY_MODEL_29605eb7aa1b4455835edfd79dc7bb3f",
      "placeholder": "​",
      "style": "IPY_MODEL_ce201958bd0347f7a6ccd699ffc354d2",
      "value": " 19.3k/19.3k [00:00&lt;00:00, 396kB/s]"
     }
    },
    "9922989264ae46938f8e87a9e2ebb42e": {
     "model_module": "@jupyter-widgets/controls",
     "model_module_version": "1.5.0",
     "model_name": "HTMLModel",
     "state": {
      "_dom_classes": [],
      "_model_module": "@jupyter-widgets/controls",
      "_model_module_version": "1.5.0",
      "_model_name": "HTMLModel",
      "_view_count": null,
      "_view_module": "@jupyter-widgets/controls",
      "_view_module_version": "1.5.0",
      "_view_name": "HTMLView",
      "description": "",
      "description_tooltip": null,
      "layout": "IPY_MODEL_0fb32500faa541fbb9670c69a40abc5d",
      "placeholder": "​",
      "style": "IPY_MODEL_d8d88e9a67c04a759263e8cea1056ef4",
      "value": "README.md: 100%"
     }
    },
    "a83f6cc5644e4f26a9f23743cb2dc197": {
     "model_module": "@jupyter-widgets/base",
     "model_module_version": "1.2.0",
     "model_name": "LayoutModel",
     "state": {
      "_model_module": "@jupyter-widgets/base",
      "_model_module_version": "1.2.0",
      "_model_name": "LayoutModel",
      "_view_count": null,
      "_view_module": "@jupyter-widgets/base",
      "_view_module_version": "1.2.0",
      "_view_name": "LayoutView",
      "align_content": null,
      "align_items": null,
      "align_self": null,
      "border": null,
      "bottom": null,
      "display": null,
      "flex": null,
      "flex_flow": null,
      "grid_area": null,
      "grid_auto_columns": null,
      "grid_auto_flow": null,
      "grid_auto_rows": null,
      "grid_column": null,
      "grid_gap": null,
      "grid_row": null,
      "grid_template_areas": null,
      "grid_template_columns": null,
      "grid_template_rows": null,
      "height": null,
      "justify_content": null,
      "justify_items": null,
      "left": null,
      "margin": null,
      "max_height": null,
      "max_width": null,
      "min_height": null,
      "min_width": null,
      "object_fit": null,
      "object_position": null,
      "order": null,
      "overflow": null,
      "overflow_x": null,
      "overflow_y": null,
      "padding": null,
      "right": null,
      "top": null,
      "visibility": null,
      "width": null
     }
    },
    "c71d59713ba24832833e7fdea625513d": {
     "model_module": "@jupyter-widgets/controls",
     "model_module_version": "1.5.0",
     "model_name": "DescriptionStyleModel",
     "state": {
      "_model_module": "@jupyter-widgets/controls",
      "_model_module_version": "1.5.0",
      "_model_name": "DescriptionStyleModel",
      "_view_count": null,
      "_view_module": "@jupyter-widgets/base",
      "_view_module_version": "1.2.0",
      "_view_name": "StyleView",
      "description_width": ""
     }
    },
    "ce201958bd0347f7a6ccd699ffc354d2": {
     "model_module": "@jupyter-widgets/controls",
     "model_module_version": "1.5.0",
     "model_name": "DescriptionStyleModel",
     "state": {
      "_model_module": "@jupyter-widgets/controls",
      "_model_module_version": "1.5.0",
      "_model_name": "DescriptionStyleModel",
      "_view_count": null,
      "_view_module": "@jupyter-widgets/base",
      "_view_module_version": "1.2.0",
      "_view_name": "StyleView",
      "description_width": ""
     }
    },
    "d8d88e9a67c04a759263e8cea1056ef4": {
     "model_module": "@jupyter-widgets/controls",
     "model_module_version": "1.5.0",
     "model_name": "DescriptionStyleModel",
     "state": {
      "_model_module": "@jupyter-widgets/controls",
      "_model_module_version": "1.5.0",
      "_model_name": "DescriptionStyleModel",
      "_view_count": null,
      "_view_module": "@jupyter-widgets/base",
      "_view_module_version": "1.2.0",
      "_view_name": "StyleView",
      "description_width": ""
     }
    },
    "e23914fa4dda44bc98380293e0a52646": {
     "model_module": "@jupyter-widgets/base",
     "model_module_version": "1.2.0",
     "model_name": "LayoutModel",
     "state": {
      "_model_module": "@jupyter-widgets/base",
      "_model_module_version": "1.2.0",
      "_model_name": "LayoutModel",
      "_view_count": null,
      "_view_module": "@jupyter-widgets/base",
      "_view_module_version": "1.2.0",
      "_view_name": "LayoutView",
      "align_content": null,
      "align_items": null,
      "align_self": null,
      "border": null,
      "bottom": null,
      "display": null,
      "flex": null,
      "flex_flow": null,
      "grid_area": null,
      "grid_auto_columns": null,
      "grid_auto_flow": null,
      "grid_auto_rows": null,
      "grid_column": null,
      "grid_gap": null,
      "grid_row": null,
      "grid_template_areas": null,
      "grid_template_columns": null,
      "grid_template_rows": null,
      "height": null,
      "justify_content": null,
      "justify_items": null,
      "left": null,
      "margin": null,
      "max_height": null,
      "max_width": null,
      "min_height": null,
      "min_width": null,
      "object_fit": null,
      "object_position": null,
      "order": null,
      "overflow": null,
      "overflow_x": null,
      "overflow_y": null,
      "padding": null,
      "right": null,
      "top": null,
      "visibility": null,
      "width": null
     }
    },
    "e94914dc87c244828fa75bc687cd44a7": {
     "model_module": "@jupyter-widgets/controls",
     "model_module_version": "1.5.0",
     "model_name": "FloatProgressModel",
     "state": {
      "_dom_classes": [],
      "_model_module": "@jupyter-widgets/controls",
      "_model_module_version": "1.5.0",
      "_model_name": "FloatProgressModel",
      "_view_count": null,
      "_view_module": "@jupyter-widgets/controls",
      "_view_module_version": "1.5.0",
      "_view_name": "ProgressView",
      "bar_style": "success",
      "description": "",
      "description_tooltip": null,
      "layout": "IPY_MODEL_273b22e5fab1475cb7a09ae4defc5413",
      "max": 19347,
      "min": 0,
      "orientation": "horizontal",
      "style": "IPY_MODEL_004c3405a9854683b3ba5cfbdbe04545",
      "value": 19347
     }
    }
   }
  }
 },
 "nbformat": 4,
 "nbformat_minor": 5
}
